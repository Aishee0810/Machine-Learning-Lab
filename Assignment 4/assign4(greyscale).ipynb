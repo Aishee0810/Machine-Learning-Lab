{
  "nbformat": 4,
  "nbformat_minor": 0,
  "metadata": {
    "kernelspec": {
      "display_name": "Python 3",
      "language": "python",
      "name": "python3"
    },
    "language_info": {
      "codemirror_mode": {
        "name": "ipython",
        "version": 3
      },
      "file_extension": ".py",
      "mimetype": "text/x-python",
      "name": "python",
      "nbconvert_exporter": "python",
      "pygments_lexer": "ipython3",
      "version": "3.7.3"
    },
    "colab": {
      "name": "assign4(greyscale).ipynb",
      "provenance": []
    }
  },
  "cells": [
    {
      "cell_type": "code",
      "metadata": {
        "id": "6k6-tzz3Img7",
        "outputId": "14b9fce5-e352-42cc-d0c5-d9dcb651c6df",
        "colab": {
          "base_uri": "https://localhost:8080/",
          "height": 80
        }
      },
      "source": [
        "import numpy as np\n",
        "import pandas as pd\n",
        "from sklearn.model_selection import train_test_split\n",
        "from sklearn.preprocessing import LabelEncoder\n",
        "from sklearn.preprocessing import StandardScaler\n",
        "from sklearn.model_selection import KFold,cross_val_score\n",
        "from sklearn.metrics import classification_report\n",
        "from warnings import simplefilter\n",
        "import matplotlib.pyplot as plt\n",
        "from sklearn.metrics import accuracy_score,precision_score,recall_score,confusion_matrix,roc_curve,roc_auc_score\n",
        "from sklearn.model_selection import GridSearchCV\n",
        "#preprocess.\n",
        "from keras.preprocessing.image import ImageDataGenerator\n",
        "\n",
        "#dl libraraies\n",
        "from keras import backend as K\n",
        "from keras.models import Sequential\n",
        "from keras.layers import Dense\n",
        "from keras.optimizers import Adam,SGD,Adagrad,Adadelta,RMSprop\n",
        "from keras.utils import to_categorical\n",
        "\n",
        "# specifically for cnn\n",
        "from keras.layers import Dropout, Flatten,Activation\n",
        "from keras.layers import Conv2D, MaxPooling2D, BatchNormalization\n",
        " \n",
        "import tensorflow as tf\n",
        "import random as rn\n",
        "# specifically for manipulating zipped images and getting numpy arrays of pixel values of images.\n",
        "import cv2                  \n",
        "import numpy as np  \n",
        "from tqdm import tqdm\n",
        "import os                   \n",
        "from random import shuffle  \n",
        "from zipfile import ZipFile\n",
        "from PIL import Image\n",
        "simplefilter(action='ignore',category=FutureWarning)"
      ],
      "execution_count": null,
      "outputs": [
        {
          "output_type": "stream",
          "text": [
            "Using TensorFlow backend.\n"
          ],
          "name": "stderr"
        },
        {
          "output_type": "display_data",
          "data": {
            "text/html": [
              "<p style=\"color: red;\">\n",
              "The default version of TensorFlow in Colab will soon switch to TensorFlow 2.x.<br>\n",
              "We recommend you <a href=\"https://www.tensorflow.org/guide/migrate\" target=\"_blank\">upgrade</a> now \n",
              "or ensure your notebook will continue to use TensorFlow 1.x via the <code>%tensorflow_version 1.x</code> magic:\n",
              "<a href=\"https://colab.research.google.com/notebooks/tensorflow_version.ipynb\" target=\"_blank\">more info</a>.</p>\n"
            ],
            "text/plain": [
              "<IPython.core.display.HTML object>"
            ]
          },
          "metadata": {
            "tags": []
          }
        }
      ]
    },
    {
      "cell_type": "markdown",
      "metadata": {
        "id": "nLdSt8rJjj2W"
      },
      "source": [
        ""
      ]
    },
    {
      "cell_type": "code",
      "metadata": {
        "id": "Hp__HEHI0Smo",
        "outputId": "24a4b402-cf13-470f-f194-3d41c551f77c",
        "colab": {
          "base_uri": "https://localhost:8080/",
          "height": 122
        }
      },
      "source": [
        "from google.colab import drive\n",
        "drive.mount('/content/drive')"
      ],
      "execution_count": null,
      "outputs": [
        {
          "output_type": "stream",
          "text": [
            "Go to this URL in a browser: https://accounts.google.com/o/oauth2/auth?client_id=947318989803-6bn6qk8qdgf4n4g3pfee6491hc0brc4i.apps.googleusercontent.com&redirect_uri=urn%3Aietf%3Awg%3Aoauth%3A2.0%3Aoob&scope=email%20https%3A%2F%2Fwww.googleapis.com%2Fauth%2Fdocs.test%20https%3A%2F%2Fwww.googleapis.com%2Fauth%2Fdrive%20https%3A%2F%2Fwww.googleapis.com%2Fauth%2Fdrive.photos.readonly%20https%3A%2F%2Fwww.googleapis.com%2Fauth%2Fpeopleapi.readonly&response_type=code\n",
            "\n",
            "Enter your authorization code:\n",
            "··········\n",
            "Mounted at /content/drive\n"
          ],
          "name": "stdout"
        }
      ]
    },
    {
      "cell_type": "code",
      "metadata": {
        "id": "Ks2lvajfImhI"
      },
      "source": [
        "X=[]\n",
        "Z=[]\n",
        "IMG_SIZE=80\n",
        "DAISY_DIR='/content/drive/My Drive/flowerslab/daisy'\n",
        "SUNFLOWER_DIR='/content/drive/My Drive/flowerslab/sunflower'\n",
        "ROSE_DIR='/content/drive/My Drive/flowerslab/rose'\n",
        "DANDELION_DIR='/content/drive/My Drive/flowerslab/dandelion'\n",
        "TULIP_DIR='/content/drive/My Drive/flowerslab/tulip'"
      ],
      "execution_count": null,
      "outputs": []
    },
    {
      "cell_type": "code",
      "metadata": {
        "id": "bKzAGKqBImhN"
      },
      "source": [
        "def assign_label(img,flower_type):\n",
        "    return flower_type\n",
        "    "
      ],
      "execution_count": null,
      "outputs": []
    },
    {
      "cell_type": "code",
      "metadata": {
        "id": "bwk1Qs8SImhS"
      },
      "source": [
        "def train_data(flower_type,DIR):\n",
        "    for im in tqdm(os.listdir(DIR)):\n",
        "        label=assign_label(im,flower_type)\n",
        "    for i in os.scandir(DIR):\n",
        "        if i.is_file():\n",
        "            filename=(i.path)\n",
        "            im=cv2.imread(filename,1)\n",
        "            im=cv2.resize(im,(80,80))\n",
        "            im = cv2.cvtColor(im, cv2.COLOR_BGR2GRAY)\n",
        "        X.append(np.array(im))\n",
        "        Z.append(str(label))"
      ],
      "execution_count": null,
      "outputs": []
    },
    {
      "cell_type": "code",
      "metadata": {
        "id": "HahMMSVOImhY",
        "outputId": "7312daf2-6016-4878-a8ef-1eadfaa3e077",
        "colab": {
          "base_uri": "https://localhost:8080/",
          "height": 187
        }
      },
      "source": [
        "train_data('Daisy',DAISY_DIR)\n",
        "print(len(X))\n",
        "train_data('Dandelion',DANDELION_DIR)\n",
        "print(len(X))\n",
        "train_data('Rose',ROSE_DIR)\n",
        "print(len(X))\n",
        "train_data('Sunflower',SUNFLOWER_DIR)\n",
        "print(len(X))\n",
        "train_data('Tulip',TULIP_DIR)\n",
        "print(len(X))"
      ],
      "execution_count": null,
      "outputs": [
        {
          "output_type": "stream",
          "text": [
            "100%|██████████| 769/769 [00:00<00:00, 1395077.76it/s]\n"
          ],
          "name": "stderr"
        },
        {
          "output_type": "stream",
          "text": [
            "769\n"
          ],
          "name": "stdout"
        },
        {
          "output_type": "stream",
          "text": [
            "100%|██████████| 1052/1052 [00:00<00:00, 647455.29it/s]\n"
          ],
          "name": "stderr"
        },
        {
          "output_type": "stream",
          "text": [
            "1821\n"
          ],
          "name": "stdout"
        },
        {
          "output_type": "stream",
          "text": [
            "100%|██████████| 784/784 [00:00<00:00, 598968.00it/s]\n"
          ],
          "name": "stderr"
        },
        {
          "output_type": "stream",
          "text": [
            "2605\n"
          ],
          "name": "stdout"
        },
        {
          "output_type": "stream",
          "text": [
            "100%|██████████| 734/734 [00:00<00:00, 1144042.79it/s]\n"
          ],
          "name": "stderr"
        },
        {
          "output_type": "stream",
          "text": [
            "3339\n"
          ],
          "name": "stdout"
        },
        {
          "output_type": "stream",
          "text": [
            "100%|██████████| 984/984 [00:00<00:00, 272206.51it/s]\n"
          ],
          "name": "stderr"
        },
        {
          "output_type": "stream",
          "text": [
            "4323\n"
          ],
          "name": "stdout"
        }
      ]
    },
    {
      "cell_type": "code",
      "metadata": {
        "id": "BlANS5PuImhd",
        "outputId": "705e9f17-4efd-4be1-9e6f-c1cdc6acd73f",
        "colab": {
          "base_uri": "https://localhost:8080/",
          "height": 34
        }
      },
      "source": [
        "#Label Encoding\n",
        "le=LabelEncoder()\n",
        "Y=le.fit_transform(Z)\n",
        "Y=to_categorical(Y,5)\n",
        "X=np.array(X)\n",
        "#X=X/255\n",
        "print(X.shape)\n",
        "X=X[:,:,:,np.newaxis]"
      ],
      "execution_count": null,
      "outputs": [
        {
          "output_type": "stream",
          "text": [
            "(4323, 80, 80)\n"
          ],
          "name": "stdout"
        }
      ]
    },
    {
      "cell_type": "code",
      "metadata": {
        "id": "PMap1zoBImhi",
        "outputId": "e6fd178e-4659-402e-8179-8a5b219c5b6c",
        "colab": {
          "base_uri": "https://localhost:8080/",
          "height": 34
        }
      },
      "source": [
        "x_train,x_test,y_train,y_test=train_test_split(X,Y,test_size=0.10,random_state=10)\n",
        "print(x_train.shape)\n",
        "np.random.seed(10)\n",
        "rn.seed(10)\n",
        "tf.set_random_seed(10)"
      ],
      "execution_count": null,
      "outputs": [
        {
          "output_type": "stream",
          "text": [
            "(3890, 80, 80, 1)\n"
          ],
          "name": "stdout"
        }
      ]
    },
    {
      "cell_type": "code",
      "metadata": {
        "id": "xkeVcZXwImhq",
        "outputId": "2c1e80bc-6658-43f0-953f-8448e5417d92",
        "colab": {
          "base_uri": "https://localhost:8080/",
          "height": 173
        }
      },
      "source": [
        "model = Sequential()\n",
        "model.add(Conv2D(filters = 32, kernel_size = (5,5),padding = 'Same',activation ='relu', input_shape = (80,80,1)))\n",
        "model.add(MaxPooling2D(pool_size=(2,2)))\n",
        "\n",
        "\n",
        "model.add(Conv2D(filters = 64, kernel_size = (3,3),padding = 'Same',activation ='relu'))\n",
        "model.add(MaxPooling2D(pool_size=(2,2), strides=(2,2)))\n",
        " \n",
        "\n",
        "model.add(Conv2D(filters =96, kernel_size = (3,3),padding = 'Same',activation ='relu'))\n",
        "model.add(MaxPooling2D(pool_size=(2,2), strides=(2,2)))\n",
        "\n",
        "model.add(Conv2D(filters = 96, kernel_size = (3,3),padding = 'Same',activation ='relu'))\n",
        "model.add(MaxPooling2D(pool_size=(2,2), strides=(2,2)))\n",
        "\n",
        "model.add(Flatten())\n",
        "model.add(Dense(512))\n",
        "model.add(Activation('relu'))\n",
        "model.add(Dense(5, activation = \"softmax\"))"
      ],
      "execution_count": null,
      "outputs": [
        {
          "output_type": "stream",
          "text": [
            "WARNING:tensorflow:From /usr/local/lib/python3.6/dist-packages/keras/backend/tensorflow_backend.py:66: The name tf.get_default_graph is deprecated. Please use tf.compat.v1.get_default_graph instead.\n",
            "\n",
            "WARNING:tensorflow:From /usr/local/lib/python3.6/dist-packages/keras/backend/tensorflow_backend.py:541: The name tf.placeholder is deprecated. Please use tf.compat.v1.placeholder instead.\n",
            "\n",
            "WARNING:tensorflow:From /usr/local/lib/python3.6/dist-packages/keras/backend/tensorflow_backend.py:4432: The name tf.random_uniform is deprecated. Please use tf.random.uniform instead.\n",
            "\n",
            "WARNING:tensorflow:From /usr/local/lib/python3.6/dist-packages/keras/backend/tensorflow_backend.py:4267: The name tf.nn.max_pool is deprecated. Please use tf.nn.max_pool2d instead.\n",
            "\n"
          ],
          "name": "stdout"
        }
      ]
    },
    {
      "cell_type": "code",
      "metadata": {
        "id": "f7T8Z3o0Imhv"
      },
      "source": [
        "#data augmentation to prevent overfitting\n",
        "datagen = ImageDataGenerator(\n",
        "        featurewise_center=False,  # set input mean to 0 over the dataset\n",
        "        samplewise_center=False,  # set each sample mean to 0\n",
        "        featurewise_std_normalization=False,  # divide inputs by std of the dataset\n",
        "        samplewise_std_normalization=False,  # divide each input by its std\n",
        "        zca_whitening=False,  # apply ZCA whitening\n",
        "        rotation_range=10,  # randomly rotate images in the range (degrees, 0 to 180)\n",
        "        zoom_range = 0.1, # Randomly zoom image \n",
        "        width_shift_range=0.2,  # randomly shift images horizontally (fraction of total width)\n",
        "        height_shift_range=0.2,  # randomly shift images vertically (fraction of total height)\n",
        "        horizontal_flip=True,  # randomly flip images\n",
        "        vertical_flip=False)  # randomly flip images\n",
        "\n",
        "\n",
        "datagen.fit(x_train)"
      ],
      "execution_count": null,
      "outputs": []
    },
    {
      "cell_type": "code",
      "metadata": {
        "id": "vYu0bwq6Imh1",
        "outputId": "6a589424-2b8d-40e4-81d0-43b6c24e6123",
        "colab": {
          "base_uri": "https://localhost:8080/",
          "height": 649
        }
      },
      "source": [
        "model.compile(optimizer=Adam(lr=0.001),loss='categorical_crossentropy',metrics=['accuracy'])\n",
        "model.summary()"
      ],
      "execution_count": null,
      "outputs": [
        {
          "output_type": "stream",
          "text": [
            "WARNING:tensorflow:From /usr/local/lib/python3.6/dist-packages/keras/optimizers.py:793: The name tf.train.Optimizer is deprecated. Please use tf.compat.v1.train.Optimizer instead.\n",
            "\n",
            "WARNING:tensorflow:From /usr/local/lib/python3.6/dist-packages/keras/backend/tensorflow_backend.py:3576: The name tf.log is deprecated. Please use tf.math.log instead.\n",
            "\n",
            "Model: \"sequential_1\"\n",
            "_________________________________________________________________\n",
            "Layer (type)                 Output Shape              Param #   \n",
            "=================================================================\n",
            "conv2d_1 (Conv2D)            (None, 80, 80, 32)        832       \n",
            "_________________________________________________________________\n",
            "max_pooling2d_1 (MaxPooling2 (None, 40, 40, 32)        0         \n",
            "_________________________________________________________________\n",
            "conv2d_2 (Conv2D)            (None, 40, 40, 64)        18496     \n",
            "_________________________________________________________________\n",
            "max_pooling2d_2 (MaxPooling2 (None, 20, 20, 64)        0         \n",
            "_________________________________________________________________\n",
            "conv2d_3 (Conv2D)            (None, 20, 20, 96)        55392     \n",
            "_________________________________________________________________\n",
            "max_pooling2d_3 (MaxPooling2 (None, 10, 10, 96)        0         \n",
            "_________________________________________________________________\n",
            "conv2d_4 (Conv2D)            (None, 10, 10, 96)        83040     \n",
            "_________________________________________________________________\n",
            "max_pooling2d_4 (MaxPooling2 (None, 5, 5, 96)          0         \n",
            "_________________________________________________________________\n",
            "flatten_1 (Flatten)          (None, 2400)              0         \n",
            "_________________________________________________________________\n",
            "dense_1 (Dense)              (None, 512)               1229312   \n",
            "_________________________________________________________________\n",
            "activation_1 (Activation)    (None, 512)               0         \n",
            "_________________________________________________________________\n",
            "dense_2 (Dense)              (None, 5)                 2565      \n",
            "=================================================================\n",
            "Total params: 1,389,637\n",
            "Trainable params: 1,389,637\n",
            "Non-trainable params: 0\n",
            "_________________________________________________________________\n"
          ],
          "name": "stdout"
        }
      ]
    },
    {
      "cell_type": "code",
      "metadata": {
        "id": "FLSko6rFImh-",
        "outputId": "231588d0-6bd5-4638-9724-b8af313c0f9f",
        "colab": {
          "base_uri": "https://localhost:8080/",
          "height": 1000
        }
      },
      "source": [
        "History = model.fit_generator(datagen.flow(x_train,y_train, batch_size=60),\n",
        "                              epochs = 50, validation_data = (x_test,y_test),\n",
        "                              verbose = 1, steps_per_epoch=x_train.shape[0] / 60)\n",
        "model.save('Shadakaloful(1).h5')"
      ],
      "execution_count": null,
      "outputs": [
        {
          "output_type": "stream",
          "text": [
            "WARNING:tensorflow:From /usr/local/lib/python3.6/dist-packages/tensorflow_core/python/ops/math_grad.py:1424: where (from tensorflow.python.ops.array_ops) is deprecated and will be removed in a future version.\n",
            "Instructions for updating:\n",
            "Use tf.where in 2.0, which has the same broadcast rule as np.where\n",
            "WARNING:tensorflow:From /usr/local/lib/python3.6/dist-packages/keras/backend/tensorflow_backend.py:1033: The name tf.assign_add is deprecated. Please use tf.compat.v1.assign_add instead.\n",
            "\n",
            "WARNING:tensorflow:From /usr/local/lib/python3.6/dist-packages/keras/backend/tensorflow_backend.py:1020: The name tf.assign is deprecated. Please use tf.compat.v1.assign instead.\n",
            "\n",
            "WARNING:tensorflow:From /usr/local/lib/python3.6/dist-packages/keras/backend/tensorflow_backend.py:3005: The name tf.Session is deprecated. Please use tf.compat.v1.Session instead.\n",
            "\n",
            "Epoch 1/50\n",
            "WARNING:tensorflow:From /usr/local/lib/python3.6/dist-packages/keras/backend/tensorflow_backend.py:190: The name tf.get_default_session is deprecated. Please use tf.compat.v1.get_default_session instead.\n",
            "\n",
            "WARNING:tensorflow:From /usr/local/lib/python3.6/dist-packages/keras/backend/tensorflow_backend.py:197: The name tf.ConfigProto is deprecated. Please use tf.compat.v1.ConfigProto instead.\n",
            "\n",
            "WARNING:tensorflow:From /usr/local/lib/python3.6/dist-packages/keras/backend/tensorflow_backend.py:207: The name tf.global_variables is deprecated. Please use tf.compat.v1.global_variables instead.\n",
            "\n",
            "WARNING:tensorflow:From /usr/local/lib/python3.6/dist-packages/keras/backend/tensorflow_backend.py:216: The name tf.is_variable_initialized is deprecated. Please use tf.compat.v1.is_variable_initialized instead.\n",
            "\n",
            "WARNING:tensorflow:From /usr/local/lib/python3.6/dist-packages/keras/backend/tensorflow_backend.py:223: The name tf.variables_initializer is deprecated. Please use tf.compat.v1.variables_initializer instead.\n",
            "\n",
            "65/64 [==============================] - 58s 887ms/step - loss: 1.5832 - acc: 0.2700 - val_loss: 1.4914 - val_acc: 0.3395\n",
            "Epoch 2/50\n",
            "65/64 [==============================] - 56s 857ms/step - loss: 1.4903 - acc: 0.3545 - val_loss: 1.4229 - val_acc: 0.3857\n",
            "Epoch 3/50\n",
            "65/64 [==============================] - 56s 854ms/step - loss: 1.4410 - acc: 0.3879 - val_loss: 1.3607 - val_acc: 0.4111\n",
            "Epoch 4/50\n",
            "65/64 [==============================] - 55s 854ms/step - loss: 1.4042 - acc: 0.4095 - val_loss: 1.3399 - val_acc: 0.4388\n",
            "Epoch 5/50\n",
            "65/64 [==============================] - 56s 855ms/step - loss: 1.3732 - acc: 0.4267 - val_loss: 1.2869 - val_acc: 0.4758\n",
            "Epoch 6/50\n",
            "65/64 [==============================] - 56s 860ms/step - loss: 1.3356 - acc: 0.4515 - val_loss: 1.3328 - val_acc: 0.4388\n",
            "Epoch 7/50\n",
            "65/64 [==============================] - 55s 852ms/step - loss: 1.2909 - acc: 0.4719 - val_loss: 1.2189 - val_acc: 0.4965\n",
            "Epoch 8/50\n",
            "65/64 [==============================] - 55s 850ms/step - loss: 1.2756 - acc: 0.4809 - val_loss: 1.1672 - val_acc: 0.5242\n",
            "Epoch 9/50\n",
            "65/64 [==============================] - 55s 851ms/step - loss: 1.2324 - acc: 0.4979 - val_loss: 1.1490 - val_acc: 0.5381\n",
            "Epoch 10/50\n",
            "65/64 [==============================] - 55s 851ms/step - loss: 1.1845 - acc: 0.5238 - val_loss: 1.1197 - val_acc: 0.5543\n",
            "Epoch 11/50\n",
            "65/64 [==============================] - 55s 850ms/step - loss: 1.2029 - acc: 0.5143 - val_loss: 1.1377 - val_acc: 0.5335\n",
            "Epoch 12/50\n",
            "65/64 [==============================] - 56s 861ms/step - loss: 1.1373 - acc: 0.5554 - val_loss: 1.1313 - val_acc: 0.5358\n",
            "Epoch 13/50\n",
            "65/64 [==============================] - 55s 851ms/step - loss: 1.1235 - acc: 0.5591 - val_loss: 1.0865 - val_acc: 0.5566\n",
            "Epoch 14/50\n",
            "65/64 [==============================] - 55s 851ms/step - loss: 1.1025 - acc: 0.5642 - val_loss: 1.0213 - val_acc: 0.5797\n",
            "Epoch 15/50\n",
            "65/64 [==============================] - 55s 852ms/step - loss: 1.0646 - acc: 0.5835 - val_loss: 1.0258 - val_acc: 0.5797\n",
            "Epoch 16/50\n",
            "65/64 [==============================] - 55s 853ms/step - loss: 1.0618 - acc: 0.5812 - val_loss: 1.0714 - val_acc: 0.5543\n",
            "Epoch 17/50\n",
            "65/64 [==============================] - 55s 853ms/step - loss: 1.0236 - acc: 0.5944 - val_loss: 0.9966 - val_acc: 0.6328\n",
            "Epoch 18/50\n",
            "65/64 [==============================] - 56s 859ms/step - loss: 1.0361 - acc: 0.5917 - val_loss: 1.0912 - val_acc: 0.5751\n",
            "Epoch 19/50\n",
            "65/64 [==============================] - 56s 855ms/step - loss: 0.9679 - acc: 0.6290 - val_loss: 0.9826 - val_acc: 0.6097\n",
            "Epoch 20/50\n",
            "65/64 [==============================] - 56s 856ms/step - loss: 0.9414 - acc: 0.6363 - val_loss: 0.9306 - val_acc: 0.6236\n",
            "Epoch 21/50\n",
            "65/64 [==============================] - 56s 856ms/step - loss: 0.9367 - acc: 0.6432 - val_loss: 0.9186 - val_acc: 0.6697\n",
            "Epoch 22/50\n",
            "65/64 [==============================] - 56s 856ms/step - loss: 0.9232 - acc: 0.6429 - val_loss: 0.8937 - val_acc: 0.6536\n",
            "Epoch 23/50\n",
            "65/64 [==============================] - 56s 859ms/step - loss: 0.9119 - acc: 0.6462 - val_loss: 0.9112 - val_acc: 0.6490\n",
            "Epoch 24/50\n",
            "65/64 [==============================] - 56s 858ms/step - loss: 0.8922 - acc: 0.6568 - val_loss: 0.8715 - val_acc: 0.6397\n",
            "Epoch 25/50\n",
            "65/64 [==============================] - 55s 853ms/step - loss: 0.8695 - acc: 0.6664 - val_loss: 0.9525 - val_acc: 0.6305\n",
            "Epoch 26/50\n",
            "65/64 [==============================] - 56s 854ms/step - loss: 0.8299 - acc: 0.6808 - val_loss: 0.9066 - val_acc: 0.6282\n",
            "Epoch 27/50\n",
            "65/64 [==============================] - 56s 855ms/step - loss: 0.8285 - acc: 0.6906 - val_loss: 0.8741 - val_acc: 0.6513\n",
            "Epoch 28/50\n",
            "65/64 [==============================] - 55s 854ms/step - loss: 0.8194 - acc: 0.6918 - val_loss: 0.8644 - val_acc: 0.6559\n",
            "Epoch 29/50\n",
            "65/64 [==============================] - 56s 858ms/step - loss: 0.8157 - acc: 0.6856 - val_loss: 0.8401 - val_acc: 0.6721\n",
            "Epoch 30/50\n",
            "65/64 [==============================] - 55s 853ms/step - loss: 0.8015 - acc: 0.6914 - val_loss: 0.8890 - val_acc: 0.6536\n",
            "Epoch 31/50\n",
            "65/64 [==============================] - 55s 853ms/step - loss: 0.7860 - acc: 0.6959 - val_loss: 0.8454 - val_acc: 0.6605\n",
            "Epoch 32/50\n",
            "65/64 [==============================] - 55s 853ms/step - loss: 0.7404 - acc: 0.7256 - val_loss: 0.8098 - val_acc: 0.6905\n",
            "Epoch 33/50\n",
            "65/64 [==============================] - 56s 854ms/step - loss: 0.7673 - acc: 0.7136 - val_loss: 0.8179 - val_acc: 0.6836\n",
            "Epoch 34/50\n",
            "65/64 [==============================] - 55s 853ms/step - loss: 0.7663 - acc: 0.7121 - val_loss: 0.7863 - val_acc: 0.6998\n",
            "Epoch 35/50\n",
            "65/64 [==============================] - 56s 858ms/step - loss: 0.7496 - acc: 0.7103 - val_loss: 0.8727 - val_acc: 0.6628\n",
            "Epoch 36/50\n",
            "65/64 [==============================] - 55s 852ms/step - loss: 0.7350 - acc: 0.7196 - val_loss: 0.8336 - val_acc: 0.6998\n",
            "Epoch 37/50\n",
            "65/64 [==============================] - 56s 854ms/step - loss: 0.7260 - acc: 0.7303 - val_loss: 0.8737 - val_acc: 0.6651\n",
            "Epoch 38/50\n",
            "65/64 [==============================] - 55s 850ms/step - loss: 0.7172 - acc: 0.7351 - val_loss: 0.9825 - val_acc: 0.6443\n",
            "Epoch 39/50\n",
            "65/64 [==============================] - 55s 850ms/step - loss: 0.7180 - acc: 0.7335 - val_loss: 0.8774 - val_acc: 0.6790\n",
            "Epoch 40/50\n",
            "65/64 [==============================] - 55s 851ms/step - loss: 0.6837 - acc: 0.7412 - val_loss: 0.8328 - val_acc: 0.6975\n",
            "Epoch 41/50\n",
            "65/64 [==============================] - 55s 852ms/step - loss: 0.6619 - acc: 0.7518 - val_loss: 0.8257 - val_acc: 0.6905\n",
            "Epoch 42/50\n",
            "65/64 [==============================] - 55s 850ms/step - loss: 0.6489 - acc: 0.7568 - val_loss: 0.9318 - val_acc: 0.6605\n",
            "Epoch 43/50\n",
            "65/64 [==============================] - 55s 851ms/step - loss: 0.6541 - acc: 0.7513 - val_loss: 0.8137 - val_acc: 0.6859\n",
            "Epoch 44/50\n",
            "65/64 [==============================] - 55s 852ms/step - loss: 0.6456 - acc: 0.7583 - val_loss: 0.8455 - val_acc: 0.6928\n",
            "Epoch 45/50\n",
            "65/64 [==============================] - 55s 851ms/step - loss: 0.6376 - acc: 0.7599 - val_loss: 0.8700 - val_acc: 0.6790\n",
            "Epoch 46/50\n",
            "65/64 [==============================] - 55s 851ms/step - loss: 0.6303 - acc: 0.7606 - val_loss: 0.8288 - val_acc: 0.6998\n",
            "Epoch 47/50\n",
            "65/64 [==============================] - 56s 854ms/step - loss: 0.6101 - acc: 0.7734 - val_loss: 0.8040 - val_acc: 0.7229\n",
            "Epoch 48/50\n",
            "65/64 [==============================] - 55s 850ms/step - loss: 0.5890 - acc: 0.7754 - val_loss: 0.7909 - val_acc: 0.6998\n",
            "Epoch 49/50\n",
            "65/64 [==============================] - 55s 850ms/step - loss: 0.5692 - acc: 0.7831 - val_loss: 0.8574 - val_acc: 0.6952\n",
            "Epoch 50/50\n",
            "65/64 [==============================] - 55s 853ms/step - loss: 0.5967 - acc: 0.7766 - val_loss: 0.8368 - val_acc: 0.6813\n"
          ],
          "name": "stdout"
        }
      ]
    },
    {
      "cell_type": "code",
      "metadata": {
        "id": "QTCNg_gWImiD",
        "outputId": "567f3d07-a13e-45df-c594-53e8a27889e2",
        "colab": {
          "base_uri": "https://localhost:8080/",
          "height": 295
        }
      },
      "source": [
        "#Plotting Loss\n",
        "plt.plot(History.history['loss'])\n",
        "plt.plot(History.history['val_loss'])\n",
        "plt.title('Model Loss')\n",
        "plt.ylabel('Loss')\n",
        "plt.xlabel('Epochs')\n",
        "plt.legend(['train', 'test'])\n",
        "plt.show()"
      ],
      "execution_count": null,
      "outputs": [
        {
          "output_type": "display_data",
          "data": {
            "image/png": "[encoded data removed]",
            "text/plain": [
              "<Figure size 432x288 with 1 Axes>"
            ]
          },
          "metadata": {
            "tags": []
          }
        }
      ]
    },
    {
      "cell_type": "code",
      "metadata": {
        "id": "LiIhbZnIImiK",
        "outputId": "e973c7b3-d04e-43ed-bf3c-35150f6a48d4",
        "colab": {
          "base_uri": "https://localhost:8080/",
          "height": 295
        }
      },
      "source": [
        "#plotting accuracy\n",
        "plt.plot(History.history['acc'])\n",
        "plt.plot(History.history['val_acc'])\n",
        "plt.title('Model Accuracy')\n",
        "plt.ylabel('Accuracy')\n",
        "plt.xlabel('Epochs')\n",
        "plt.legend(['train', 'test'])\n",
        "plt.show()"
      ],
      "execution_count": null,
      "outputs": [
        {
          "output_type": "display_data",
          "data": {
            "image/png": "[encoded data removed]",
            "text/plain": [
              "<Figure size 432x288 with 1 Axes>"
            ]
          },
          "metadata": {
            "tags": []
          }
        }
      ]
    },
    {
      "cell_type": "code",
      "metadata": {
        "id": "1KYihXXhjmfI"
      },
      "source": [
        "model = Sequential()\n",
        "model.add(Conv2D(filters = 16, kernel_size = (4,4),padding = 'Same',activation ='relu', input_shape = (80,80,1)))\n",
        "model.add(MaxPooling2D(pool_size=(2,2)))\n",
        "model.add(Dropout(0.2))\n",
        "\n",
        "model.add(Conv2D(filters = 32, kernel_size = (5,5),padding = 'Same',activation ='relu'))\n",
        "model.add(MaxPooling2D(pool_size=(2,2), strides=(2,2)))\n",
        "model.add(BatchNormalization())\n",
        "model.add(Dropout(0.2))\n",
        "\n",
        "model.add(Conv2D(filters =64, kernel_size = (4,4),padding = 'Same',activation ='relu'))\n",
        "model.add(MaxPooling2D(pool_size=(2,2), strides=(2,2)))\n",
        "model.add(BatchNormalization())\n",
        "model.add(Dropout(0.2))\n",
        "\n",
        "model.add(Conv2D(filters = 96, kernel_size = (3,3),padding = 'Same',activation ='relu'))\n",
        "model.add(MaxPooling2D(pool_size=(2,2), strides=(2,2)))\n",
        "model.add(BatchNormalization())\n",
        "model.add(Dropout(0.2))\n",
        "\n",
        "model.add(Flatten())\n",
        "model.add(Dense(512))\n",
        "model.add(Activation('relu'))\n",
        "model.add(Dense(5, activation = \"softmax\"))"
      ],
      "execution_count": null,
      "outputs": []
    },
    {
      "cell_type": "code",
      "metadata": {
        "id": "hC61KhLX0HCN"
      },
      "source": [
        "#data augmentation to prevent overfitting\n",
        "datagen = ImageDataGenerator(\n",
        "        featurewise_center=False,  # set input mean to 0 over the dataset\n",
        "        samplewise_center=False,  # set each sample mean to 0\n",
        "        featurewise_std_normalization=False,  # divide inputs by std of the dataset\n",
        "        samplewise_std_normalization=False,  # divide each input by its std\n",
        "        zca_whitening=False,  # apply ZCA whitening\n",
        "        rotation_range=10,  # randomly rotate images in the range (degrees, 0 to 180)\n",
        "        zoom_range = 0.1, # Randomly zoom image \n",
        "        width_shift_range=0.2,  # randomly shift images horizontally (fraction of total width)\n",
        "        height_shift_range=0.2,  # randomly shift images vertically (fraction of total height)\n",
        "        horizontal_flip=True,  # randomly flip images\n",
        "        vertical_flip=False)  # randomly flip images\n",
        "\n",
        "\n",
        "datagen.fit(x_train)"
      ],
      "execution_count": null,
      "outputs": []
    },
    {
      "cell_type": "code",
      "metadata": {
        "id": "BzP5c7g3zUYA",
        "outputId": "b7c5f8e6-d169-438a-82b6-db92ebe5f47f",
        "colab": {
          "base_uri": "https://localhost:8080/",
          "height": 799
        }
      },
      "source": [
        "model.compile(optimizer=Adam(lr=0.001),loss='categorical_crossentropy',metrics=['accuracy'])\n",
        "model.summary()"
      ],
      "execution_count": null,
      "outputs": [
        {
          "output_type": "stream",
          "text": [
            "Model: \"sequential_3\"\n",
            "_________________________________________________________________\n",
            "Layer (type)                 Output Shape              Param #   \n",
            "=================================================================\n",
            "conv2d_8 (Conv2D)            (None, 80, 80, 16)        272       \n",
            "_________________________________________________________________\n",
            "max_pooling2d_8 (MaxPooling2 (None, 40, 40, 16)        0         \n",
            "_________________________________________________________________\n",
            "dropout_7 (Dropout)          (None, 40, 40, 16)        0         \n",
            "_________________________________________________________________\n",
            "conv2d_9 (Conv2D)            (None, 40, 40, 32)        12832     \n",
            "_________________________________________________________________\n",
            "max_pooling2d_9 (MaxPooling2 (None, 20, 20, 32)        0         \n",
            "_________________________________________________________________\n",
            "batch_normalization_5 (Batch (None, 20, 20, 32)        128       \n",
            "_________________________________________________________________\n",
            "dropout_8 (Dropout)          (None, 20, 20, 32)        0         \n",
            "_________________________________________________________________\n",
            "conv2d_10 (Conv2D)           (None, 20, 20, 64)        32832     \n",
            "_________________________________________________________________\n",
            "max_pooling2d_10 (MaxPooling (None, 10, 10, 64)        0         \n",
            "_________________________________________________________________\n",
            "batch_normalization_6 (Batch (None, 10, 10, 64)        256       \n",
            "_________________________________________________________________\n",
            "dropout_9 (Dropout)          (None, 10, 10, 64)        0         \n",
            "_________________________________________________________________\n",
            "conv2d_11 (Conv2D)           (None, 10, 10, 96)        55392     \n",
            "_________________________________________________________________\n",
            "max_pooling2d_11 (MaxPooling (None, 5, 5, 96)          0         \n",
            "_________________________________________________________________\n",
            "batch_normalization_7 (Batch (None, 5, 5, 96)          384       \n",
            "_________________________________________________________________\n",
            "dropout_10 (Dropout)         (None, 5, 5, 96)          0         \n",
            "_________________________________________________________________\n",
            "flatten_2 (Flatten)          (None, 2400)              0         \n",
            "_________________________________________________________________\n",
            "dense_3 (Dense)              (None, 512)               1229312   \n",
            "_________________________________________________________________\n",
            "activation_2 (Activation)    (None, 512)               0         \n",
            "_________________________________________________________________\n",
            "dense_4 (Dense)              (None, 5)                 2565      \n",
            "=================================================================\n",
            "Total params: 1,333,973\n",
            "Trainable params: 1,333,589\n",
            "Non-trainable params: 384\n",
            "_________________________________________________________________\n"
          ],
          "name": "stdout"
        }
      ]
    },
    {
      "cell_type": "code",
      "metadata": {
        "id": "i1m8cU2Wq5hq",
        "outputId": "23bc90cc-3b24-485c-b39a-23e098dac696",
        "colab": {
          "base_uri": "https://localhost:8080/",
          "height": 1000
        }
      },
      "source": [
        "History = model.fit_generator(datagen.flow(x_train,y_train, batch_size=128),\n",
        "                              epochs = 50, validation_data = (x_test,y_test),\n",
        "                              verbose = 1, steps_per_epoch=x_train.shape[0] / 128)"
      ],
      "execution_count": null,
      "outputs": [
        {
          "output_type": "stream",
          "text": [
            "WARNING:tensorflow:From /usr/local/lib/python3.6/dist-packages/tensorflow_core/python/ops/math_grad.py:1424: where (from tensorflow.python.ops.array_ops) is deprecated and will be removed in a future version.\n",
            "Instructions for updating:\n",
            "Use tf.where in 2.0, which has the same broadcast rule as np.where\n",
            "WARNING:tensorflow:From /usr/local/lib/python3.6/dist-packages/keras/backend/tensorflow_backend.py:1033: The name tf.assign_add is deprecated. Please use tf.compat.v1.assign_add instead.\n",
            "\n",
            "WARNING:tensorflow:From /usr/local/lib/python3.6/dist-packages/keras/backend/tensorflow_backend.py:1020: The name tf.assign is deprecated. Please use tf.compat.v1.assign instead.\n",
            "\n",
            "Epoch 1/50\n",
            "31/30 [==============================] - 47s 2s/step - loss: 2.0176 - acc: 0.2980 - val_loss: 1.8223 - val_acc: 0.3233\n",
            "Epoch 2/50\n",
            "31/30 [==============================] - 45s 1s/step - loss: 1.5777 - acc: 0.3530 - val_loss: 1.7347 - val_acc: 0.2887\n",
            "Epoch 3/50\n",
            "31/30 [==============================] - 44s 1s/step - loss: 1.4323 - acc: 0.3975 - val_loss: 1.6095 - val_acc: 0.3995\n",
            "Epoch 4/50\n",
            "31/30 [==============================] - 44s 1s/step - loss: 1.3928 - acc: 0.4178 - val_loss: 1.8268 - val_acc: 0.3095\n",
            "Epoch 5/50\n",
            "31/30 [==============================] - 45s 1s/step - loss: 1.3289 - acc: 0.4597 - val_loss: 1.8572 - val_acc: 0.3048\n",
            "Epoch 6/50\n",
            "31/30 [==============================] - 45s 1s/step - loss: 1.2815 - acc: 0.4825 - val_loss: 1.5178 - val_acc: 0.4226\n",
            "Epoch 7/50\n",
            "31/30 [==============================] - 45s 1s/step - loss: 1.2530 - acc: 0.5024 - val_loss: 1.5749 - val_acc: 0.4226\n",
            "Epoch 8/50\n",
            "31/30 [==============================] - 45s 1s/step - loss: 1.2410 - acc: 0.5064 - val_loss: 1.2858 - val_acc: 0.5058\n",
            "Epoch 9/50\n",
            "31/30 [==============================] - 45s 1s/step - loss: 1.2123 - acc: 0.5074 - val_loss: 1.5290 - val_acc: 0.4411\n",
            "Epoch 10/50\n",
            "31/30 [==============================] - 44s 1s/step - loss: 1.1891 - acc: 0.5337 - val_loss: 1.4598 - val_acc: 0.4573\n",
            "Epoch 11/50\n",
            "31/30 [==============================] - 44s 1s/step - loss: 1.1586 - acc: 0.5404 - val_loss: 1.2551 - val_acc: 0.5196\n",
            "Epoch 12/50\n",
            "31/30 [==============================] - 45s 1s/step - loss: 1.1500 - acc: 0.5530 - val_loss: 1.6237 - val_acc: 0.4480\n",
            "Epoch 13/50\n",
            "31/30 [==============================] - 45s 1s/step - loss: 1.1539 - acc: 0.5464 - val_loss: 1.8227 - val_acc: 0.3903\n",
            "Epoch 14/50\n",
            "31/30 [==============================] - 45s 1s/step - loss: 1.1189 - acc: 0.5607 - val_loss: 1.6447 - val_acc: 0.4573\n",
            "Epoch 15/50\n",
            "31/30 [==============================] - 45s 1s/step - loss: 1.0933 - acc: 0.5759 - val_loss: 1.5767 - val_acc: 0.4688\n",
            "Epoch 16/50\n",
            "31/30 [==============================] - 45s 1s/step - loss: 1.0758 - acc: 0.5746 - val_loss: 1.2705 - val_acc: 0.5012\n",
            "Epoch 17/50\n",
            "31/30 [==============================] - 44s 1s/step - loss: 1.0766 - acc: 0.5840 - val_loss: 2.6738 - val_acc: 0.3718\n",
            "Epoch 18/50\n",
            "31/30 [==============================] - 45s 1s/step - loss: 1.0559 - acc: 0.5846 - val_loss: 1.4921 - val_acc: 0.4688\n",
            "Epoch 19/50\n",
            "31/30 [==============================] - 45s 1s/step - loss: 1.0241 - acc: 0.6038 - val_loss: 1.2492 - val_acc: 0.4965\n",
            "Epoch 20/50\n",
            "31/30 [==============================] - 45s 1s/step - loss: 1.0158 - acc: 0.6025 - val_loss: 1.7744 - val_acc: 0.4480\n",
            "Epoch 21/50\n",
            "31/30 [==============================] - 44s 1s/step - loss: 1.0407 - acc: 0.6042 - val_loss: 1.3151 - val_acc: 0.5266\n",
            "Epoch 22/50\n",
            "31/30 [==============================] - 45s 1s/step - loss: 0.9878 - acc: 0.6136 - val_loss: 1.2185 - val_acc: 0.5358\n",
            "Epoch 23/50\n",
            "31/30 [==============================] - 44s 1s/step - loss: 0.9854 - acc: 0.6127 - val_loss: 1.2587 - val_acc: 0.5289\n",
            "Epoch 24/50\n",
            "31/30 [==============================] - 45s 1s/step - loss: 0.9640 - acc: 0.6241 - val_loss: 1.6476 - val_acc: 0.4249\n",
            "Epoch 25/50\n",
            "31/30 [==============================] - 45s 1s/step - loss: 0.9598 - acc: 0.6308 - val_loss: 1.4534 - val_acc: 0.4804\n",
            "Epoch 26/50\n",
            "31/30 [==============================] - 45s 1s/step - loss: 0.9517 - acc: 0.6324 - val_loss: 1.7117 - val_acc: 0.4342\n",
            "Epoch 27/50\n",
            "31/30 [==============================] - 44s 1s/step - loss: 0.9359 - acc: 0.6376 - val_loss: 1.5317 - val_acc: 0.4965\n",
            "Epoch 28/50\n",
            "31/30 [==============================] - 44s 1s/step - loss: 0.9193 - acc: 0.6498 - val_loss: 1.1103 - val_acc: 0.5658\n",
            "Epoch 29/50\n",
            "31/30 [==============================] - 44s 1s/step - loss: 0.9049 - acc: 0.6568 - val_loss: 1.2273 - val_acc: 0.5358\n",
            "Epoch 30/50\n",
            "31/30 [==============================] - 45s 1s/step - loss: 0.8995 - acc: 0.6564 - val_loss: 1.2106 - val_acc: 0.5289\n",
            "Epoch 31/50\n",
            "31/30 [==============================] - 45s 1s/step - loss: 0.9103 - acc: 0.6577 - val_loss: 1.3285 - val_acc: 0.5658\n",
            "Epoch 32/50\n",
            "31/30 [==============================] - 45s 1s/step - loss: 0.8854 - acc: 0.6695 - val_loss: 1.3846 - val_acc: 0.4619\n",
            "Epoch 33/50\n",
            "31/30 [==============================] - 45s 1s/step - loss: 0.8509 - acc: 0.6725 - val_loss: 1.2812 - val_acc: 0.5473\n",
            "Epoch 34/50\n",
            "31/30 [==============================] - 45s 1s/step - loss: 0.8436 - acc: 0.6810 - val_loss: 2.1141 - val_acc: 0.4758\n",
            "Epoch 35/50\n",
            "31/30 [==============================] - 45s 1s/step - loss: 0.8293 - acc: 0.6883 - val_loss: 1.1382 - val_acc: 0.5774\n",
            "Epoch 36/50\n",
            "31/30 [==============================] - 45s 1s/step - loss: 0.8338 - acc: 0.6845 - val_loss: 1.1683 - val_acc: 0.5704\n",
            "Epoch 37/50\n",
            "31/30 [==============================] - 45s 1s/step - loss: 0.8200 - acc: 0.6842 - val_loss: 1.1472 - val_acc: 0.5751\n",
            "Epoch 38/50\n",
            "31/30 [==============================] - 45s 1s/step - loss: 0.8068 - acc: 0.6943 - val_loss: 1.2813 - val_acc: 0.5404\n",
            "Epoch 39/50\n",
            "31/30 [==============================] - 45s 1s/step - loss: 0.8142 - acc: 0.6903 - val_loss: 1.2408 - val_acc: 0.5612\n",
            "Epoch 40/50\n",
            "31/30 [==============================] - 45s 1s/step - loss: 0.7864 - acc: 0.6945 - val_loss: 1.0488 - val_acc: 0.5958\n",
            "Epoch 41/50\n",
            "31/30 [==============================] - 45s 1s/step - loss: 0.7684 - acc: 0.7150 - val_loss: 1.3537 - val_acc: 0.5219\n",
            "Epoch 42/50\n",
            "31/30 [==============================] - 45s 1s/step - loss: 0.7745 - acc: 0.7034 - val_loss: 1.2177 - val_acc: 0.5751\n",
            "Epoch 43/50\n",
            "31/30 [==============================] - 45s 1s/step - loss: 0.7861 - acc: 0.7083 - val_loss: 1.2485 - val_acc: 0.5912\n",
            "Epoch 44/50\n",
            "31/30 [==============================] - 45s 1s/step - loss: 0.7814 - acc: 0.7004 - val_loss: 1.1345 - val_acc: 0.6074\n",
            "Epoch 45/50\n",
            "31/30 [==============================] - 45s 1s/step - loss: 0.7560 - acc: 0.7024 - val_loss: 1.4449 - val_acc: 0.5381\n",
            "Epoch 46/50\n",
            "31/30 [==============================] - 45s 1s/step - loss: 0.7419 - acc: 0.7190 - val_loss: 1.9707 - val_acc: 0.4781\n",
            "Epoch 47/50\n",
            "31/30 [==============================] - 44s 1s/step - loss: 0.7346 - acc: 0.7180 - val_loss: 1.0425 - val_acc: 0.6005\n",
            "Epoch 48/50\n",
            "31/30 [==============================] - 45s 1s/step - loss: 0.7407 - acc: 0.7214 - val_loss: 1.0333 - val_acc: 0.6028\n",
            "Epoch 49/50\n",
            "31/30 [==============================] - 45s 1s/step - loss: 0.6906 - acc: 0.7441 - val_loss: 1.2424 - val_acc: 0.6397\n",
            "Epoch 50/50\n",
            "31/30 [==============================] - 45s 1s/step - loss: 0.7292 - acc: 0.7233 - val_loss: 1.0636 - val_acc: 0.6120\n"
          ],
          "name": "stdout"
        }
      ]
    },
    {
      "cell_type": "code",
      "metadata": {
        "id": "bF9CGgyerHxT",
        "outputId": "b8216320-df49-4ccf-a6a3-e7f5a924cd6e",
        "colab": {
          "base_uri": "https://localhost:8080/",
          "height": 295
        }
      },
      "source": [
        "#plotting accuracy\n",
        "plt.plot(History.history['acc'])\n",
        "plt.plot(History.history['val_acc'])\n",
        "plt.title('Model Accuracy')\n",
        "plt.ylabel('Accuracy')\n",
        "plt.xlabel('Epochs')\n",
        "plt.legend(['train', 'test'])\n",
        "plt.show()"
      ],
      "execution_count": null,
      "outputs": [
        {
          "output_type": "display_data",
          "data": {
            "image/png": "[encoded data removed]",
            "text/plain": [
              "<Figure size 432x288 with 1 Axes>"
            ]
          },
          "metadata": {
            "tags": []
          }
        }
      ]
    }
  ]
}