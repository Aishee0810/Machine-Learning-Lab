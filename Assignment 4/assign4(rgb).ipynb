{
  "nbformat": 4,
  "nbformat_minor": 0,
  "metadata": {
    "kernelspec": {
      "display_name": "Python 3",
      "language": "python",
      "name": "python3"
    },
    "language_info": {
      "codemirror_mode": {
        "name": "ipython",
        "version": 3
      },
      "file_extension": ".py",
      "mimetype": "text/x-python",
      "name": "python",
      "nbconvert_exporter": "python",
      "pygments_lexer": "ipython3",
      "version": "3.7.3"
    },
    "colab": {
      "name": "assign4(rgb).ipynb",
      "provenance": []
    }
  },
  "cells": [
    {
      "cell_type": "code",
      "metadata": {
        "id": "c5vWsIbpXlph"
      },
      "source": [
        "import numpy as np\n",
        "import pandas as pd\n",
        "from sklearn.model_selection import train_test_split\n",
        "from sklearn.preprocessing import LabelEncoder\n",
        "from sklearn.preprocessing import StandardScaler\n",
        "from sklearn.model_selection import KFold,cross_val_score\n",
        "from sklearn.metrics import classification_report\n",
        "from warnings import simplefilter\n",
        "import matplotlib.pyplot as plt\n",
        "from sklearn.metrics import accuracy_score,precision_score,recall_score,confusion_matrix,roc_curve,roc_auc_score\n",
        "from sklearn.model_selection import GridSearchCV\n",
        "#preprocess.\n",
        "from keras.preprocessing.image import ImageDataGenerator\n",
        "\n",
        "#dl libraraies\n",
        "from keras import backend as K\n",
        "from keras.models import Sequential\n",
        "from keras.layers import Dense\n",
        "from keras.optimizers import Adam,SGD,Adagrad,Adadelta,RMSprop\n",
        "from keras.utils import to_categorical\n",
        "\n",
        "# specifically for cnn\n",
        "from keras.layers import Dropout, Flatten,Activation\n",
        "from keras.layers import Conv2D, MaxPooling2D, BatchNormalization\n",
        " \n",
        "import tensorflow as tf\n",
        "import random as rn\n",
        "# specifically for manipulating zipped images and getting numpy arrays of pixel values of images.\n",
        "import cv2                  \n",
        "import numpy as np  \n",
        "from tqdm import tqdm\n",
        "import os                   \n",
        "from random import shuffle  \n",
        "from zipfile import ZipFile\n",
        "from PIL import Image\n",
        "simplefilter(action='ignore',category=FutureWarning)"
      ],
      "execution_count": null,
      "outputs": []
    },
    {
      "cell_type": "code",
      "metadata": {
        "id": "A4XdbzuQXvwm",
        "outputId": "ab237082-e78d-4799-849e-bc90051beab4",
        "colab": {
          "base_uri": "https://localhost:8080/",
          "height": 122
        }
      },
      "source": [
        "from google.colab import drive\n",
        "drive.mount('/content/drive')"
      ],
      "execution_count": null,
      "outputs": [
        {
          "output_type": "stream",
          "text": [
            "Go to this URL in a browser: https://accounts.google.com/o/oauth2/auth?client_id=947318989803-6bn6qk8qdgf4n4g3pfee6491hc0brc4i.apps.googleusercontent.com&redirect_uri=urn%3Aietf%3Awg%3Aoauth%3A2.0%3Aoob&scope=email%20https%3A%2F%2Fwww.googleapis.com%2Fauth%2Fdocs.test%20https%3A%2F%2Fwww.googleapis.com%2Fauth%2Fdrive%20https%3A%2F%2Fwww.googleapis.com%2Fauth%2Fdrive.photos.readonly%20https%3A%2F%2Fwww.googleapis.com%2Fauth%2Fpeopleapi.readonly&response_type=code\n",
            "\n",
            "Enter your authorization code:\n",
            "··········\n",
            "Mounted at /content/drive\n"
          ],
          "name": "stdout"
        }
      ]
    },
    {
      "cell_type": "code",
      "metadata": {
        "id": "yXhl2KL5Xlpv"
      },
      "source": [
        "X=[]\n",
        "Z=[]\n",
        "IMG_SIZE=80\n",
        "DAISY_DIR='/content/drive/My Drive/flowerslab/daisy'\n",
        "SUNFLOWER_DIR='/content/drive/My Drive/flowerslab/sunflower'\n",
        "ROSE_DIR='/content/drive/My Drive/flowerslab/rose'\n",
        "DANDELION_DIR='/content/drive/My Drive/flowerslab/dandelion'\n",
        "TULIP_DIR='/content/drive/My Drive/flowerslab/tulip'"
      ],
      "execution_count": null,
      "outputs": []
    },
    {
      "cell_type": "code",
      "metadata": {
        "id": "fOR9ipShXlp3"
      },
      "source": [
        "def assign_label(img,flower_type):\n",
        "    return flower_type\n",
        "    "
      ],
      "execution_count": null,
      "outputs": []
    },
    {
      "cell_type": "code",
      "metadata": {
        "id": "kn7m-UW_Xlp8"
      },
      "source": [
        "def train_data(flower_type,DIR):\n",
        "    for im in tqdm(os.listdir(DIR)):\n",
        "        label=assign_label(im,flower_type)\n",
        "    for i in os.scandir(DIR):\n",
        "        if i.is_file():\n",
        "            filename=(i.path)\n",
        "            im=cv2.imread(filename,1)\n",
        "            im=cv2.resize(im,(80,80))\n",
        "            #im = cv2.cvtColor(im, cv2.COLOR_BGR2GRAY)\n",
        "        X.append(np.array(im))\n",
        "        Z.append(str(label))"
      ],
      "execution_count": null,
      "outputs": []
    },
    {
      "cell_type": "code",
      "metadata": {
        "id": "QOE2HI_WXlqB",
        "outputId": "2a9f51b6-c19d-46cb-d3fd-cb8192eaf3e9",
        "colab": {
          "base_uri": "https://localhost:8080/",
          "height": 187
        }
      },
      "source": [
        "train_data('Daisy',DAISY_DIR)\n",
        "print(len(X))\n",
        "train_data('Dandelion',DANDELION_DIR)\n",
        "print(len(X))\n",
        "train_data('Rose',ROSE_DIR)\n",
        "print(len(X))\n",
        "train_data('Sunflower',SUNFLOWER_DIR)\n",
        "print(len(X))\n",
        "train_data('Tulip',TULIP_DIR)\n",
        "print(len(X))"
      ],
      "execution_count": null,
      "outputs": [
        {
          "output_type": "stream",
          "text": [
            "100%|██████████| 769/769 [00:00<00:00, 777959.42it/s]\n"
          ],
          "name": "stderr"
        },
        {
          "output_type": "stream",
          "text": [
            "769\n"
          ],
          "name": "stdout"
        },
        {
          "output_type": "stream",
          "text": [
            "100%|██████████| 1052/1052 [00:00<00:00, 176101.84it/s]\n"
          ],
          "name": "stderr"
        },
        {
          "output_type": "stream",
          "text": [
            "1821\n"
          ],
          "name": "stdout"
        },
        {
          "output_type": "stream",
          "text": [
            "100%|██████████| 784/784 [00:00<00:00, 208637.42it/s]\n"
          ],
          "name": "stderr"
        },
        {
          "output_type": "stream",
          "text": [
            "2605\n"
          ],
          "name": "stdout"
        },
        {
          "output_type": "stream",
          "text": [
            "100%|██████████| 734/734 [00:00<00:00, 140454.36it/s]\n"
          ],
          "name": "stderr"
        },
        {
          "output_type": "stream",
          "text": [
            "3339\n"
          ],
          "name": "stdout"
        },
        {
          "output_type": "stream",
          "text": [
            "100%|██████████| 984/984 [00:00<00:00, 955811.75it/s]\n"
          ],
          "name": "stderr"
        },
        {
          "output_type": "stream",
          "text": [
            "4323\n"
          ],
          "name": "stdout"
        }
      ]
    },
    {
      "cell_type": "code",
      "metadata": {
        "id": "MCUxA00CXlqH",
        "outputId": "5ad23ebd-0449-466a-a34d-cf18fdd80400",
        "colab": {
          "base_uri": "https://localhost:8080/",
          "height": 34
        }
      },
      "source": [
        "#Label Encoding\n",
        "le=LabelEncoder()\n",
        "Y=le.fit_transform(Z)\n",
        "Y=to_categorical(Y,5)\n",
        "X=np.array(X)\n",
        "X=X/255\n",
        "print(X.shape)\n",
        "#X=X[:,:,:,np.newaxis]"
      ],
      "execution_count": null,
      "outputs": [
        {
          "output_type": "stream",
          "text": [
            "(4323, 80, 80, 3)\n"
          ],
          "name": "stdout"
        }
      ]
    },
    {
      "cell_type": "code",
      "metadata": {
        "id": "3Jk_kcuVXlqM",
        "outputId": "badb392d-c868-4882-e364-5a237416cbb5",
        "colab": {
          "base_uri": "https://localhost:8080/",
          "height": 34
        }
      },
      "source": [
        "x_train,x_test,y_train,y_test=train_test_split(X,Y,test_size=0.10,random_state=10)\n",
        "print(x_train.shape)\n",
        "np.random.seed(10)\n",
        "rn.seed(10)\n",
        "tf.set_random_seed(10)"
      ],
      "execution_count": null,
      "outputs": [
        {
          "output_type": "stream",
          "text": [
            "(3890, 80, 80, 3)\n"
          ],
          "name": "stdout"
        }
      ]
    },
    {
      "cell_type": "code",
      "metadata": {
        "id": "HaIpSaQnXlqS",
        "outputId": "7e946bce-9a0a-4331-fde0-214c7768e8fc",
        "colab": {
          "base_uri": "https://localhost:8080/",
          "height": 173
        }
      },
      "source": [
        "model = Sequential()\n",
        "model.add(Conv2D(filters = 32, kernel_size = (5,5),padding = 'Same',activation ='relu', input_shape = (80,80,3)))\n",
        "model.add(MaxPooling2D(pool_size=(2,2)))\n",
        "\n",
        "\n",
        "model.add(Conv2D(filters = 64, kernel_size = (3,3),padding = 'Same',activation ='relu'))\n",
        "model.add(MaxPooling2D(pool_size=(2,2), strides=(2,2)))\n",
        " \n",
        "\n",
        "model.add(Conv2D(filters =96, kernel_size = (3,3),padding = 'Same',activation ='relu'))\n",
        "model.add(MaxPooling2D(pool_size=(2,2), strides=(2,2)))\n",
        "\n",
        "model.add(Conv2D(filters = 96, kernel_size = (3,3),padding = 'Same',activation ='relu'))\n",
        "model.add(MaxPooling2D(pool_size=(2,2), strides=(2,2)))\n",
        "\n",
        "model.add(Flatten())\n",
        "model.add(Dense(512))\n",
        "model.add(Activation('relu'))\n",
        "model.add(Dense(5, activation = \"softmax\"))"
      ],
      "execution_count": null,
      "outputs": [
        {
          "output_type": "stream",
          "text": [
            "WARNING:tensorflow:From /usr/local/lib/python3.6/dist-packages/keras/backend/tensorflow_backend.py:66: The name tf.get_default_graph is deprecated. Please use tf.compat.v1.get_default_graph instead.\n",
            "\n",
            "WARNING:tensorflow:From /usr/local/lib/python3.6/dist-packages/keras/backend/tensorflow_backend.py:541: The name tf.placeholder is deprecated. Please use tf.compat.v1.placeholder instead.\n",
            "\n",
            "WARNING:tensorflow:From /usr/local/lib/python3.6/dist-packages/keras/backend/tensorflow_backend.py:4432: The name tf.random_uniform is deprecated. Please use tf.random.uniform instead.\n",
            "\n",
            "WARNING:tensorflow:From /usr/local/lib/python3.6/dist-packages/keras/backend/tensorflow_backend.py:4267: The name tf.nn.max_pool is deprecated. Please use tf.nn.max_pool2d instead.\n",
            "\n"
          ],
          "name": "stdout"
        }
      ]
    },
    {
      "cell_type": "code",
      "metadata": {
        "id": "dVLw3i0VXlqa"
      },
      "source": [
        "#data augmentation to prevent overfitting\n",
        "datagen = ImageDataGenerator(\n",
        "        featurewise_center=False,  # set input mean to 0 over the dataset\n",
        "        samplewise_center=False,  # set each sample mean to 0\n",
        "        featurewise_std_normalization=False,  # divide inputs by std of the dataset\n",
        "        samplewise_std_normalization=False,  # divide each input by its std\n",
        "        zca_whitening=False,  # apply ZCA whitening\n",
        "        rotation_range=10,  # randomly rotate images in the range (degrees, 0 to 180)\n",
        "        zoom_range = 0.1, # Randomly zoom image \n",
        "        width_shift_range=0.2,  # randomly shift images horizontally (fraction of total width)\n",
        "        height_shift_range=0.2,  # randomly shift images vertically (fraction of total height)\n",
        "        horizontal_flip=True,  # randomly flip images\n",
        "        vertical_flip=False)  # randomly flip images\n",
        "\n",
        "\n",
        "datagen.fit(x_train)"
      ],
      "execution_count": null,
      "outputs": []
    },
    {
      "cell_type": "code",
      "metadata": {
        "id": "CcCvUjgWXlqi",
        "outputId": "fd1ae65c-c3e7-43e9-f429-b6f158aa34cb",
        "colab": {
          "base_uri": "https://localhost:8080/",
          "height": 649
        }
      },
      "source": [
        "model.compile(optimizer=Adam(lr=0.001),loss='categorical_crossentropy',metrics=['accuracy'])\n",
        "model.summary()"
      ],
      "execution_count": null,
      "outputs": [
        {
          "output_type": "stream",
          "text": [
            "WARNING:tensorflow:From /usr/local/lib/python3.6/dist-packages/keras/optimizers.py:793: The name tf.train.Optimizer is deprecated. Please use tf.compat.v1.train.Optimizer instead.\n",
            "\n",
            "WARNING:tensorflow:From /usr/local/lib/python3.6/dist-packages/keras/backend/tensorflow_backend.py:3576: The name tf.log is deprecated. Please use tf.math.log instead.\n",
            "\n",
            "Model: \"sequential_1\"\n",
            "_________________________________________________________________\n",
            "Layer (type)                 Output Shape              Param #   \n",
            "=================================================================\n",
            "conv2d_1 (Conv2D)            (None, 80, 80, 32)        2432      \n",
            "_________________________________________________________________\n",
            "max_pooling2d_1 (MaxPooling2 (None, 40, 40, 32)        0         \n",
            "_________________________________________________________________\n",
            "conv2d_2 (Conv2D)            (None, 40, 40, 64)        18496     \n",
            "_________________________________________________________________\n",
            "max_pooling2d_2 (MaxPooling2 (None, 20, 20, 64)        0         \n",
            "_________________________________________________________________\n",
            "conv2d_3 (Conv2D)            (None, 20, 20, 96)        55392     \n",
            "_________________________________________________________________\n",
            "max_pooling2d_3 (MaxPooling2 (None, 10, 10, 96)        0         \n",
            "_________________________________________________________________\n",
            "conv2d_4 (Conv2D)            (None, 10, 10, 96)        83040     \n",
            "_________________________________________________________________\n",
            "max_pooling2d_4 (MaxPooling2 (None, 5, 5, 96)          0         \n",
            "_________________________________________________________________\n",
            "flatten_1 (Flatten)          (None, 2400)              0         \n",
            "_________________________________________________________________\n",
            "dense_1 (Dense)              (None, 512)               1229312   \n",
            "_________________________________________________________________\n",
            "activation_1 (Activation)    (None, 512)               0         \n",
            "_________________________________________________________________\n",
            "dense_2 (Dense)              (None, 5)                 2565      \n",
            "=================================================================\n",
            "Total params: 1,391,237\n",
            "Trainable params: 1,391,237\n",
            "Non-trainable params: 0\n",
            "_________________________________________________________________\n"
          ],
          "name": "stdout"
        }
      ]
    },
    {
      "cell_type": "code",
      "metadata": {
        "id": "MqB4oTjFXlqq",
        "outputId": "5a386fd3-9fa8-489c-9b4c-dcd8b5e643d4",
        "colab": {
          "base_uri": "https://localhost:8080/",
          "height": 1000
        }
      },
      "source": [
        "History = model.fit_generator(datagen.flow(x_train,y_train, batch_size=60),\n",
        "                              epochs = 50, validation_data = (x_test,y_test),\n",
        "                              verbose = 1, steps_per_epoch=x_train.shape[0] / 60)"
      ],
      "execution_count": null,
      "outputs": [
        {
          "output_type": "stream",
          "text": [
            "WARNING:tensorflow:From /usr/local/lib/python3.6/dist-packages/tensorflow_core/python/ops/math_grad.py:1424: where (from tensorflow.python.ops.array_ops) is deprecated and will be removed in a future version.\n",
            "Instructions for updating:\n",
            "Use tf.where in 2.0, which has the same broadcast rule as np.where\n",
            "WARNING:tensorflow:From /usr/local/lib/python3.6/dist-packages/keras/backend/tensorflow_backend.py:1033: The name tf.assign_add is deprecated. Please use tf.compat.v1.assign_add instead.\n",
            "\n",
            "WARNING:tensorflow:From /usr/local/lib/python3.6/dist-packages/keras/backend/tensorflow_backend.py:1020: The name tf.assign is deprecated. Please use tf.compat.v1.assign instead.\n",
            "\n",
            "WARNING:tensorflow:From /usr/local/lib/python3.6/dist-packages/keras/backend/tensorflow_backend.py:3005: The name tf.Session is deprecated. Please use tf.compat.v1.Session instead.\n",
            "\n",
            "Epoch 1/50\n",
            "WARNING:tensorflow:From /usr/local/lib/python3.6/dist-packages/keras/backend/tensorflow_backend.py:190: The name tf.get_default_session is deprecated. Please use tf.compat.v1.get_default_session instead.\n",
            "\n",
            "WARNING:tensorflow:From /usr/local/lib/python3.6/dist-packages/keras/backend/tensorflow_backend.py:197: The name tf.ConfigProto is deprecated. Please use tf.compat.v1.ConfigProto instead.\n",
            "\n",
            "WARNING:tensorflow:From /usr/local/lib/python3.6/dist-packages/keras/backend/tensorflow_backend.py:207: The name tf.global_variables is deprecated. Please use tf.compat.v1.global_variables instead.\n",
            "\n",
            "WARNING:tensorflow:From /usr/local/lib/python3.6/dist-packages/keras/backend/tensorflow_backend.py:216: The name tf.is_variable_initialized is deprecated. Please use tf.compat.v1.is_variable_initialized instead.\n",
            "\n",
            "WARNING:tensorflow:From /usr/local/lib/python3.6/dist-packages/keras/backend/tensorflow_backend.py:223: The name tf.variables_initializer is deprecated. Please use tf.compat.v1.variables_initializer instead.\n",
            "\n",
            "65/64 [==============================] - 64s 978ms/step - loss: 1.3478 - acc: 0.3941 - val_loss: 1.1294 - val_acc: 0.5404\n",
            "Epoch 2/50\n",
            "65/64 [==============================] - 62s 961ms/step - loss: 1.1082 - acc: 0.5553 - val_loss: 1.0068 - val_acc: 0.5912\n",
            "Epoch 3/50\n",
            "65/64 [==============================] - 63s 962ms/step - loss: 1.0371 - acc: 0.5754 - val_loss: 1.0489 - val_acc: 0.5681\n",
            "Epoch 4/50\n",
            "65/64 [==============================] - 63s 964ms/step - loss: 1.0029 - acc: 0.6013 - val_loss: 0.9540 - val_acc: 0.6259\n",
            "Epoch 5/50\n",
            "65/64 [==============================] - 63s 964ms/step - loss: 0.9402 - acc: 0.6357 - val_loss: 0.9770 - val_acc: 0.5889\n",
            "Epoch 6/50\n",
            "65/64 [==============================] - 63s 965ms/step - loss: 0.9011 - acc: 0.6499 - val_loss: 0.9651 - val_acc: 0.6051\n",
            "Epoch 7/50\n",
            "65/64 [==============================] - 63s 965ms/step - loss: 0.8640 - acc: 0.6642 - val_loss: 0.8189 - val_acc: 0.6674\n",
            "Epoch 8/50\n",
            "65/64 [==============================] - 63s 966ms/step - loss: 0.8103 - acc: 0.6851 - val_loss: 0.8177 - val_acc: 0.6559\n",
            "Epoch 9/50\n",
            "65/64 [==============================] - 63s 968ms/step - loss: 0.8000 - acc: 0.6917 - val_loss: 0.7637 - val_acc: 0.7044\n",
            "Epoch 10/50\n",
            "65/64 [==============================] - 63s 971ms/step - loss: 0.7828 - acc: 0.6993 - val_loss: 0.7931 - val_acc: 0.6882\n",
            "Epoch 11/50\n",
            "65/64 [==============================] - 63s 973ms/step - loss: 0.7742 - acc: 0.7086 - val_loss: 0.7587 - val_acc: 0.7113\n",
            "Epoch 12/50\n",
            "65/64 [==============================] - 63s 968ms/step - loss: 0.7387 - acc: 0.7188 - val_loss: 0.6911 - val_acc: 0.7182\n",
            "Epoch 13/50\n",
            "65/64 [==============================] - 63s 967ms/step - loss: 0.7148 - acc: 0.7229 - val_loss: 0.7109 - val_acc: 0.7298\n",
            "Epoch 14/50\n",
            "65/64 [==============================] - 63s 969ms/step - loss: 0.6914 - acc: 0.7383 - val_loss: 0.6771 - val_acc: 0.7159\n",
            "Epoch 15/50\n",
            "65/64 [==============================] - 63s 967ms/step - loss: 0.7033 - acc: 0.7348 - val_loss: 0.6711 - val_acc: 0.7390\n",
            "Epoch 16/50\n",
            "65/64 [==============================] - 63s 966ms/step - loss: 0.6471 - acc: 0.7563 - val_loss: 0.6330 - val_acc: 0.7691\n",
            "Epoch 17/50\n",
            "65/64 [==============================] - 63s 962ms/step - loss: 0.6602 - acc: 0.7456 - val_loss: 0.6877 - val_acc: 0.7229\n",
            "Epoch 18/50\n",
            "65/64 [==============================] - 63s 965ms/step - loss: 0.6294 - acc: 0.7579 - val_loss: 0.6252 - val_acc: 0.7644\n",
            "Epoch 19/50\n",
            "65/64 [==============================] - 62s 961ms/step - loss: 0.6207 - acc: 0.7637 - val_loss: 0.6125 - val_acc: 0.7667\n",
            "Epoch 20/50\n",
            "65/64 [==============================] - 62s 959ms/step - loss: 0.6036 - acc: 0.7729 - val_loss: 0.5949 - val_acc: 0.7667\n",
            "Epoch 21/50\n",
            "65/64 [==============================] - 63s 964ms/step - loss: 0.5921 - acc: 0.7698 - val_loss: 0.6159 - val_acc: 0.7621\n",
            "Epoch 22/50\n",
            "65/64 [==============================] - 63s 962ms/step - loss: 0.5772 - acc: 0.7816 - val_loss: 0.6313 - val_acc: 0.7644\n",
            "Epoch 23/50\n",
            "65/64 [==============================] - 63s 964ms/step - loss: 0.5622 - acc: 0.7916 - val_loss: 0.6101 - val_acc: 0.7737\n",
            "Epoch 24/50\n",
            "65/64 [==============================] - 62s 960ms/step - loss: 0.5539 - acc: 0.8045 - val_loss: 0.6119 - val_acc: 0.7737\n",
            "Epoch 25/50\n",
            "65/64 [==============================] - 63s 975ms/step - loss: 0.5431 - acc: 0.7931 - val_loss: 0.6082 - val_acc: 0.7667\n",
            "Epoch 26/50\n",
            "65/64 [==============================] - 63s 967ms/step - loss: 0.5146 - acc: 0.7987 - val_loss: 0.6008 - val_acc: 0.7852\n",
            "Epoch 27/50\n",
            "65/64 [==============================] - 63s 964ms/step - loss: 0.4998 - acc: 0.8075 - val_loss: 0.5833 - val_acc: 0.7968\n",
            "Epoch 28/50\n",
            "65/64 [==============================] - 63s 964ms/step - loss: 0.4770 - acc: 0.8196 - val_loss: 0.6363 - val_acc: 0.7714\n",
            "Epoch 29/50\n",
            "65/64 [==============================] - 62s 961ms/step - loss: 0.4645 - acc: 0.8259 - val_loss: 0.6396 - val_acc: 0.7667\n",
            "Epoch 30/50\n",
            "65/64 [==============================] - 63s 966ms/step - loss: 0.4680 - acc: 0.8195 - val_loss: 0.6055 - val_acc: 0.7783\n",
            "Epoch 31/50\n",
            "65/64 [==============================] - 63s 973ms/step - loss: 0.4632 - acc: 0.8184 - val_loss: 0.6442 - val_acc: 0.7667\n",
            "Epoch 32/50\n",
            "65/64 [==============================] - 65s 1s/step - loss: 0.4271 - acc: 0.8413 - val_loss: 0.6014 - val_acc: 0.7898\n",
            "Epoch 33/50\n",
            "65/64 [==============================] - 66s 1s/step - loss: 0.4290 - acc: 0.8410 - val_loss: 0.5996 - val_acc: 0.7921\n",
            "Epoch 34/50\n",
            "65/64 [==============================] - 65s 1s/step - loss: 0.4070 - acc: 0.8466 - val_loss: 0.6316 - val_acc: 0.7829\n",
            "Epoch 35/50\n",
            "65/64 [==============================] - 65s 1s/step - loss: 0.4083 - acc: 0.8483 - val_loss: 0.6672 - val_acc: 0.7898\n",
            "Epoch 36/50\n",
            "65/64 [==============================] - 64s 986ms/step - loss: 0.4028 - acc: 0.8460 - val_loss: 0.6438 - val_acc: 0.7714\n",
            "Epoch 37/50\n",
            "65/64 [==============================] - 63s 976ms/step - loss: 0.3952 - acc: 0.8528 - val_loss: 0.6218 - val_acc: 0.7875\n",
            "Epoch 38/50\n",
            "65/64 [==============================] - 66s 1s/step - loss: 0.3947 - acc: 0.8550 - val_loss: 0.6598 - val_acc: 0.7529\n",
            "Epoch 39/50\n",
            "65/64 [==============================] - 65s 1s/step - loss: 0.3853 - acc: 0.8587 - val_loss: 0.6726 - val_acc: 0.7529\n",
            "Epoch 40/50\n",
            "65/64 [==============================] - 67s 1s/step - loss: 0.3775 - acc: 0.8622 - val_loss: 0.6107 - val_acc: 0.7898\n",
            "Epoch 41/50\n",
            "65/64 [==============================] - 64s 980ms/step - loss: 0.3482 - acc: 0.8693 - val_loss: 0.6352 - val_acc: 0.7737\n",
            "Epoch 42/50\n",
            "65/64 [==============================] - 63s 966ms/step - loss: 0.3381 - acc: 0.8785 - val_loss: 0.6029 - val_acc: 0.7875\n",
            "Epoch 43/50\n",
            "65/64 [==============================] - 64s 990ms/step - loss: 0.3297 - acc: 0.8775 - val_loss: 0.6195 - val_acc: 0.7852\n",
            "Epoch 44/50\n",
            "65/64 [==============================] - 63s 977ms/step - loss: 0.3175 - acc: 0.8877 - val_loss: 0.5943 - val_acc: 0.8060\n",
            "Epoch 45/50\n",
            "65/64 [==============================] - 63s 967ms/step - loss: 0.3304 - acc: 0.8776 - val_loss: 0.6642 - val_acc: 0.7898\n",
            "Epoch 46/50\n",
            "65/64 [==============================] - 63s 965ms/step - loss: 0.3027 - acc: 0.8880 - val_loss: 0.5910 - val_acc: 0.8106\n",
            "Epoch 47/50\n",
            "65/64 [==============================] - 63s 963ms/step - loss: 0.2877 - acc: 0.8961 - val_loss: 0.6916 - val_acc: 0.7945\n",
            "Epoch 48/50\n",
            "65/64 [==============================] - 62s 961ms/step - loss: 0.2990 - acc: 0.8885 - val_loss: 0.6697 - val_acc: 0.7829\n",
            "Epoch 49/50\n",
            "65/64 [==============================] - 63s 962ms/step - loss: 0.3212 - acc: 0.8849 - val_loss: 0.7182 - val_acc: 0.7436\n",
            "Epoch 50/50\n",
            "65/64 [==============================] - 63s 967ms/step - loss: 0.2624 - acc: 0.9045 - val_loss: 0.6705 - val_acc: 0.7760\n"
          ],
          "name": "stdout"
        }
      ]
    },
    {
      "cell_type": "code",
      "metadata": {
        "id": "TMNba1A_jpGl"
      },
      "source": [
        "model.save('Ful(1).h5')"
      ],
      "execution_count": null,
      "outputs": []
    },
    {
      "cell_type": "markdown",
      "metadata": {
        "id": "ufejoT-rfOFK"
      },
      "source": [
        ""
      ]
    },
    {
      "cell_type": "code",
      "metadata": {
        "id": "GTqpb8gFXlqv",
        "outputId": "399d83dd-74d1-4305-88f4-3fdc252819ff",
        "colab": {
          "base_uri": "https://localhost:8080/",
          "height": 295
        }
      },
      "source": [
        "#Plotting Loss\n",
        "plt.plot(History.history['loss'])\n",
        "plt.plot(History.history['val_loss'])\n",
        "plt.title('Model Loss')\n",
        "plt.ylabel('Loss')\n",
        "plt.xlabel('Epochs')\n",
        "plt.legend(['train', 'test'])\n",
        "plt.show()\n"
      ],
      "execution_count": null,
      "outputs": [
        {
          "output_type": "display_data",
          "data": {
            "image/png": "[encoded data removed]",
            "text/plain": [
              "<Figure size 432x288 with 1 Axes>"
            ]
          },
          "metadata": {
            "tags": []
          }
        }
      ]
    },
    {
      "cell_type": "code",
      "metadata": {
        "id": "1gJzMrODm5mH",
        "outputId": "600de891-8b48-4895-d86a-85266605084b",
        "colab": {
          "base_uri": "https://localhost:8080/",
          "height": 34
        }
      },
      "source": [
        "plt.savefig('RGBLoss(1).png')"
      ],
      "execution_count": null,
      "outputs": [
        {
          "output_type": "display_data",
          "data": {
            "text/plain": [
              "<Figure size 432x288 with 0 Axes>"
            ]
          },
          "metadata": {
            "tags": []
          }
        }
      ]
    },
    {
      "cell_type": "code",
      "metadata": {
        "id": "OzBFj6x8Xlq4",
        "outputId": "dc397ae7-19b2-45b9-83cd-ba5c8f086e33",
        "colab": {
          "base_uri": "https://localhost:8080/",
          "height": 312
        }
      },
      "source": [
        "#plotting accuracy\n",
        "plt.plot(History.history['acc'])\n",
        "plt.plot(History.history['val_acc'])\n",
        "plt.title('Model Accuracy')\n",
        "plt.ylabel('Accuracy')\n",
        "plt.xlabel('Epochs')\n",
        "plt.legend(['train', 'test'])\n",
        "plt.show()\n",
        "plt.savefig('Accuracy(1).png')"
      ],
      "execution_count": null,
      "outputs": [
        {
          "output_type": "display_data",
          "data": {
            "image/png": "[encoded data removed]",
            "text/plain": [
              "<Figure size 432x288 with 1 Axes>"
            ]
          },
          "metadata": {
            "tags": []
          }
        },
        {
          "output_type": "display_data",
          "data": {
            "text/plain": [
              "<Figure size 432x288 with 0 Axes>"
            ]
          },
          "metadata": {
            "tags": []
          }
        }
      ]
    },
    {
      "cell_type": "code",
      "metadata": {
        "id": "pt8wTdCdnYbI"
      },
      "source": [
        "model1 = Sequential()\n",
        "model1.add(Conv2D(filters = 32, kernel_size = (5,5),padding = 'Same',activation ='relu', input_shape = (80,80,3)))\n",
        "model1.add(MaxPooling2D(pool_size=(2,2)))\n",
        "\n",
        "\n",
        "model1.add(Conv2D(filters = 64, kernel_size = (3,3),strides=(4,4),padding = 'Same',activation ='relu'))\n",
        "model1.add(MaxPooling2D(pool_size=(2,2), strides=(2,2)))\n",
        "model1.add(BatchNormalization())\n",
        "model1.add(Dropout(0.2))\n",
        "\n",
        "model1.add(Conv2D(filters =96, kernel_size = (3,3),padding = 'Same',activation ='relu'))\n",
        "model1.add(MaxPooling2D(pool_size=(2,2), strides=(2,2)))\n",
        "model1.add(Dropout(0.2))\n",
        "\n",
        "model1.add(Conv2D(filters = 96, kernel_size = (3,3),padding = 'Same',activation ='relu'))\n",
        "model1.add(MaxPooling2D(pool_size=(2,2), strides=(2,2)))\n",
        "model1.add(Dropout(0.2))\n",
        "\n",
        "model1.add(Flatten())\n",
        "model1.add(Dense(512))\n",
        "model1.add(Activation('relu'))\n",
        "model1.add(Dense(5, activation = \"softmax\"))"
      ],
      "execution_count": null,
      "outputs": []
    },
    {
      "cell_type": "code",
      "metadata": {
        "id": "fqa6d3QmBvOJ"
      },
      "source": [
        "model.compile(optimizer=Adam(lr=0.001),loss='sigmoidal_crossentropy',metrics=['accuracy'])\n",
        "model.summary()"
      ],
      "execution_count": null,
      "outputs": []
    },
    {
      "cell_type": "code",
      "metadata": {
        "id": "dkR2PIBzCQ6M"
      },
      "source": [
        "mhistory = model.fit_generator(datagen.flow(x_train,y_train, batch_size=60),\n",
        "                              epochs = 50, validation_data = (x_test,y_test),\n",
        "                              verbose = 1, steps_per_epoch=x_train.shape[0] / 60)"
      ],
      "execution_count": null,
      "outputs": []
    },
    {
      "cell_type": "code",
      "metadata": {
        "id": "XJBqT_XeCrn2"
      },
      "source": [
        "#plotting accuracy\n",
        "plt.plot(History.history['acc'])\n",
        "plt.plot(History.history['val_acc'])\n",
        "plt.title('Model Accuracy')\n",
        "plt.ylabel('Accuracy')\n",
        "plt.xlabel('Epochs')\n",
        "plt.legend(['train', 'test'])\n",
        "plt.show()\n",
        "plt.savefig('Accuracy(2).png')"
      ],
      "execution_count": null,
      "outputs": []
    }
  ]
}