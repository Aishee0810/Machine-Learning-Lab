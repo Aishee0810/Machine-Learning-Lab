{
 "cells": [
  {
   "cell_type": "code",
   "execution_count": 1,
   "metadata": {},
   "outputs": [
    {
     "name": "stderr",
     "output_type": "stream",
     "text": [
      "/home/aishee/anaconda3/lib/python3.7/site-packages/tensorflow/python/framework/dtypes.py:526: FutureWarning: Passing (type, 1) or '1type' as a synonym of type is deprecated; in a future version of numpy, it will be understood as (type, (1,)) / '(1,)type'.\n",
      "  _np_qint8 = np.dtype([(\"qint8\", np.int8, 1)])\n",
      "/home/aishee/anaconda3/lib/python3.7/site-packages/tensorflow/python/framework/dtypes.py:527: FutureWarning: Passing (type, 1) or '1type' as a synonym of type is deprecated; in a future version of numpy, it will be understood as (type, (1,)) / '(1,)type'.\n",
      "  _np_quint8 = np.dtype([(\"quint8\", np.uint8, 1)])\n",
      "/home/aishee/anaconda3/lib/python3.7/site-packages/tensorflow/python/framework/dtypes.py:528: FutureWarning: Passing (type, 1) or '1type' as a synonym of type is deprecated; in a future version of numpy, it will be understood as (type, (1,)) / '(1,)type'.\n",
      "  _np_qint16 = np.dtype([(\"qint16\", np.int16, 1)])\n",
      "/home/aishee/anaconda3/lib/python3.7/site-packages/tensorflow/python/framework/dtypes.py:529: FutureWarning: Passing (type, 1) or '1type' as a synonym of type is deprecated; in a future version of numpy, it will be understood as (type, (1,)) / '(1,)type'.\n",
      "  _np_quint16 = np.dtype([(\"quint16\", np.uint16, 1)])\n",
      "/home/aishee/anaconda3/lib/python3.7/site-packages/tensorflow/python/framework/dtypes.py:530: FutureWarning: Passing (type, 1) or '1type' as a synonym of type is deprecated; in a future version of numpy, it will be understood as (type, (1,)) / '(1,)type'.\n",
      "  _np_qint32 = np.dtype([(\"qint32\", np.int32, 1)])\n",
      "/home/aishee/anaconda3/lib/python3.7/site-packages/tensorflow/python/framework/dtypes.py:535: FutureWarning: Passing (type, 1) or '1type' as a synonym of type is deprecated; in a future version of numpy, it will be understood as (type, (1,)) / '(1,)type'.\n",
      "  np_resource = np.dtype([(\"resource\", np.ubyte, 1)])\n",
      "Using TensorFlow backend.\n"
     ]
    }
   ],
   "source": [
    "import numpy as np\n",
    "import pandas as pd\n",
    "import tensorflow as tf\n",
    "import keras\n",
    "\n",
    "from keras.datasets import mnist"
   ]
  },
  {
   "cell_type": "code",
   "execution_count": 2,
   "metadata": {},
   "outputs": [
    {
     "name": "stdout",
     "output_type": "stream",
     "text": [
      "Downloading data from https://s3.amazonaws.com/img-datasets/mnist.npz\n",
      "11493376/11490434 [==============================] - 74s 6us/step\n"
     ]
    }
   ],
   "source": [
    "(x_train, y_train), (x_test, y_test) = mnist.load_data()"
   ]
  },
  {
   "cell_type": "code",
   "execution_count": 3,
   "metadata": {},
   "outputs": [],
   "source": [
    "#Make a copy of training data\n",
    "x_train_copy = x_train.copy()"
   ]
  },
  {
   "cell_type": "code",
   "execution_count": 4,
   "metadata": {},
   "outputs": [],
   "source": [
    "#Flatten the training data\n",
    "x_train = x_train.reshape(x_train.shape[0], x_train.shape[1] * x_train.shape[2]) \n",
    "x_test = x_test.reshape(x_test.shape[0], x_test.shape[1] * x_test.shape[2])"
   ]
  },
  {
   "cell_type": "code",
   "execution_count": 5,
   "metadata": {},
   "outputs": [],
   "source": [
    "#Make a copy of training classes\n",
    "y_train_copy = y_train.copy()"
   ]
  },
  {
   "cell_type": "code",
   "execution_count": 6,
   "metadata": {},
   "outputs": [],
   "source": [
    "#Convert class labels to categorical data to calculate cost\n",
    "y_train = keras.utils.to_categorical(y_train, 10)\n",
    "y_test = keras.utils.to_categorical(y_test, 10)"
   ]
  },
  {
   "cell_type": "code",
   "execution_count": 7,
   "metadata": {},
   "outputs": [],
   "source": [
    "#Designing the model\n",
    "from keras.layers import Dense, Activation, Dropout\n",
    "from keras.models import Sequential\n",
    "\n",
    "import matplotlib.pyplot as plt"
   ]
  },
  {
   "cell_type": "code",
   "execution_count": 8,
   "metadata": {},
   "outputs": [
    {
     "name": "stdout",
     "output_type": "stream",
     "text": [
      "WARNING:tensorflow:From /home/aishee/anaconda3/lib/python3.7/site-packages/tensorflow/python/ops/resource_variable_ops.py:435: colocate_with (from tensorflow.python.framework.ops) is deprecated and will be removed in a future version.\n",
      "Instructions for updating:\n",
      "Colocations handled automatically by placer.\n",
      "Model: \"sequential_1\"\n",
      "_________________________________________________________________\n",
      "Layer (type)                 Output Shape              Param #   \n",
      "=================================================================\n",
      "dense_1 (Dense)              (None, 64)                50240     \n",
      "_________________________________________________________________\n",
      "dropout_1 (Dropout)          (None, 64)                0         \n",
      "_________________________________________________________________\n",
      "dense_2 (Dense)              (None, 256)               16640     \n",
      "_________________________________________________________________\n",
      "dropout_2 (Dropout)          (None, 256)               0         \n",
      "_________________________________________________________________\n",
      "dense_3 (Dense)              (None, 128)               32896     \n",
      "_________________________________________________________________\n",
      "dropout_3 (Dropout)          (None, 128)               0         \n",
      "_________________________________________________________________\n",
      "dense_4 (Dense)              (None, 10)                1290      \n",
      "=================================================================\n",
      "Total params: 101,066\n",
      "Trainable params: 101,066\n",
      "Non-trainable params: 0\n",
      "_________________________________________________________________\n"
     ]
    }
   ],
   "source": [
    "model = Sequential()\n",
    "model.add(Dense(64,activation='sigmoid',input_shape=(784,)))\n",
    "model.add(Dropout(rate = 0.8))\n",
    "model.add(Dense(256,activation='tanh'))\n",
    "model.add(Dropout(rate = 0.5))\n",
    "model.add(Dense(128,activation='relu'))\n",
    "model.add(Dropout(rate = 0.2))\n",
    "model.add(Dense(10,activation='softmax'))\n",
    "model.summary()"
   ]
  },
  {
   "cell_type": "code",
   "execution_count": 30,
   "metadata": {},
   "outputs": [
    {
     "name": "stdout",
     "output_type": "stream",
     "text": [
      "Train on 54000 samples, validate on 6000 samples\n",
      "Epoch 1/50\n",
      "54000/54000 [==============================] - 4s 80us/step - loss: 0.8866 - accuracy: 0.7089 - val_loss: 0.3435 - val_accuracy: 0.9165\n",
      "Epoch 2/50\n",
      "54000/54000 [==============================] - 4s 71us/step - loss: 0.8936 - accuracy: 0.7073 - val_loss: 0.3284 - val_accuracy: 0.9172\n",
      "Epoch 3/50\n",
      "54000/54000 [==============================] - 4s 73us/step - loss: 0.9011 - accuracy: 0.7028 - val_loss: 0.3278 - val_accuracy: 0.9197\n",
      "Epoch 4/50\n",
      "54000/54000 [==============================] - 4s 72us/step - loss: 0.8896 - accuracy: 0.7070 - val_loss: 0.3282 - val_accuracy: 0.9212\n",
      "Epoch 5/50\n",
      "54000/54000 [==============================] - 4s 81us/step - loss: 0.9081 - accuracy: 0.7040 - val_loss: 0.3284 - val_accuracy: 0.9158\n",
      "Epoch 6/50\n",
      "54000/54000 [==============================] - 4s 73us/step - loss: 0.9016 - accuracy: 0.7022 - val_loss: 0.3393 - val_accuracy: 0.9145\n",
      "Epoch 7/50\n",
      "54000/54000 [==============================] - 4s 73us/step - loss: 0.8970 - accuracy: 0.7054 - val_loss: 0.3395 - val_accuracy: 0.9138\n",
      "Epoch 8/50\n",
      "54000/54000 [==============================] - 4s 75us/step - loss: 0.8976 - accuracy: 0.7038 - val_loss: 0.3147 - val_accuracy: 0.9220\n",
      "Epoch 9/50\n",
      "54000/54000 [==============================] - 4s 75us/step - loss: 0.8956 - accuracy: 0.7045 - val_loss: 0.3197 - val_accuracy: 0.9175\n",
      "Epoch 10/50\n",
      "54000/54000 [==============================] - 4s 75us/step - loss: 0.8943 - accuracy: 0.7098 - val_loss: 0.3317 - val_accuracy: 0.9190\n",
      "Epoch 11/50\n",
      "54000/54000 [==============================] - 4s 75us/step - loss: 0.8999 - accuracy: 0.7046 - val_loss: 0.3228 - val_accuracy: 0.9200\n",
      "Epoch 12/50\n",
      "54000/54000 [==============================] - 4s 76us/step - loss: 0.8902 - accuracy: 0.7091 - val_loss: 0.3144 - val_accuracy: 0.9205\n",
      "Epoch 13/50\n",
      "54000/54000 [==============================] - 4s 73us/step - loss: 0.8770 - accuracy: 0.7116 - val_loss: 0.3266 - val_accuracy: 0.9152\n",
      "Epoch 14/50\n",
      "54000/54000 [==============================] - 4s 73us/step - loss: 0.8846 - accuracy: 0.7086 - val_loss: 0.3326 - val_accuracy: 0.9137\n",
      "Epoch 15/50\n",
      "54000/54000 [==============================] - 4s 74us/step - loss: 0.8760 - accuracy: 0.7110 - val_loss: 0.3240 - val_accuracy: 0.9203\n",
      "Epoch 16/50\n",
      "54000/54000 [==============================] - 4s 74us/step - loss: 0.8675 - accuracy: 0.7139 - val_loss: 0.3076 - val_accuracy: 0.9208\n",
      "Epoch 17/50\n",
      "54000/54000 [==============================] - 4s 74us/step - loss: 0.8836 - accuracy: 0.7068 - val_loss: 0.3274 - val_accuracy: 0.9175\n",
      "Epoch 18/50\n",
      "54000/54000 [==============================] - 4s 76us/step - loss: 0.8661 - accuracy: 0.7187 - val_loss: 0.3080 - val_accuracy: 0.9207\n",
      "Epoch 19/50\n",
      "54000/54000 [==============================] - 4s 76us/step - loss: 0.8617 - accuracy: 0.7162 - val_loss: 0.3124 - val_accuracy: 0.9207\n",
      "Epoch 20/50\n",
      "54000/54000 [==============================] - 4s 76us/step - loss: 0.8671 - accuracy: 0.7156 - val_loss: 0.3195 - val_accuracy: 0.9180\n",
      "Epoch 21/50\n",
      "54000/54000 [==============================] - 4s 76us/step - loss: 0.8601 - accuracy: 0.7193 - val_loss: 0.3081 - val_accuracy: 0.9260\n",
      "Epoch 22/50\n",
      "54000/54000 [==============================] - 4s 77us/step - loss: 0.8566 - accuracy: 0.7220 - val_loss: 0.3134 - val_accuracy: 0.9210\n",
      "Epoch 23/50\n",
      "54000/54000 [==============================] - 4s 83us/step - loss: 0.8635 - accuracy: 0.7163 - val_loss: 0.3119 - val_accuracy: 0.9197\n",
      "Epoch 24/50\n",
      "54000/54000 [==============================] - 4s 78us/step - loss: 0.8657 - accuracy: 0.7155 - val_loss: 0.3326 - val_accuracy: 0.9130\n",
      "Epoch 25/50\n",
      "54000/54000 [==============================] - 5s 84us/step - loss: 0.8652 - accuracy: 0.7194 - val_loss: 0.3090 - val_accuracy: 0.9197\n",
      "Epoch 26/50\n",
      "54000/54000 [==============================] - 4s 81us/step - loss: 0.8715 - accuracy: 0.7146 - val_loss: 0.3116 - val_accuracy: 0.9197\n",
      "Epoch 27/50\n",
      "54000/54000 [==============================] - 4s 83us/step - loss: 0.8766 - accuracy: 0.7091 - val_loss: 0.3189 - val_accuracy: 0.9225\n",
      "Epoch 28/50\n",
      "54000/54000 [==============================] - 4s 79us/step - loss: 0.8665 - accuracy: 0.7142 - val_loss: 0.3040 - val_accuracy: 0.9250\n",
      "Epoch 29/50\n",
      "54000/54000 [==============================] - 5s 93us/step - loss: 0.8505 - accuracy: 0.7267 - val_loss: 0.3100 - val_accuracy: 0.9253\n",
      "Epoch 30/50\n",
      "54000/54000 [==============================] - 4s 76us/step - loss: 0.8472 - accuracy: 0.7241 - val_loss: 0.3199 - val_accuracy: 0.9193\n",
      "Epoch 31/50\n",
      "54000/54000 [==============================] - 4s 78us/step - loss: 0.8476 - accuracy: 0.7270 - val_loss: 0.3119 - val_accuracy: 0.9230\n",
      "Epoch 32/50\n",
      "54000/54000 [==============================] - 4s 78us/step - loss: 0.8510 - accuracy: 0.7215 - val_loss: 0.3026 - val_accuracy: 0.9193\n",
      "Epoch 33/50\n",
      "54000/54000 [==============================] - 4s 78us/step - loss: 0.8433 - accuracy: 0.7269 - val_loss: 0.3029 - val_accuracy: 0.9200\n",
      "Epoch 34/50\n",
      "54000/54000 [==============================] - 4s 78us/step - loss: 0.8440 - accuracy: 0.7261 - val_loss: 0.3166 - val_accuracy: 0.9190\n",
      "Epoch 35/50\n",
      "54000/54000 [==============================] - 4s 79us/step - loss: 0.8538 - accuracy: 0.7211 - val_loss: 0.3159 - val_accuracy: 0.9207\n",
      "Epoch 36/50\n",
      "54000/54000 [==============================] - 4s 72us/step - loss: 0.8539 - accuracy: 0.7193 - val_loss: 0.3140 - val_accuracy: 0.9168\n",
      "Epoch 37/50\n",
      "54000/54000 [==============================] - 4s 81us/step - loss: 0.8393 - accuracy: 0.7268 - val_loss: 0.3111 - val_accuracy: 0.9170\n",
      "Epoch 38/50\n",
      "54000/54000 [==============================] - 4s 75us/step - loss: 0.8527 - accuracy: 0.7237 - val_loss: 0.2990 - val_accuracy: 0.9208\n",
      "Epoch 39/50\n",
      "54000/54000 [==============================] - 4s 75us/step - loss: 0.8504 - accuracy: 0.7228 - val_loss: 0.3027 - val_accuracy: 0.9222\n",
      "Epoch 40/50\n",
      "54000/54000 [==============================] - 5s 85us/step - loss: 0.8391 - accuracy: 0.7273 - val_loss: 0.2915 - val_accuracy: 0.9228\n",
      "Epoch 41/50\n",
      "54000/54000 [==============================] - 4s 80us/step - loss: 0.8438 - accuracy: 0.7257 - val_loss: 0.3018 - val_accuracy: 0.9208\n",
      "Epoch 42/50\n",
      "54000/54000 [==============================] - 4s 83us/step - loss: 0.8417 - accuracy: 0.7290 - val_loss: 0.3052 - val_accuracy: 0.9230\n",
      "Epoch 43/50\n",
      "54000/54000 [==============================] - 4s 82us/step - loss: 0.8452 - accuracy: 0.7229 - val_loss: 0.3205 - val_accuracy: 0.9188\n",
      "Epoch 44/50\n",
      "54000/54000 [==============================] - 4s 82us/step - loss: 0.8473 - accuracy: 0.7246 - val_loss: 0.3049 - val_accuracy: 0.9230\n",
      "Epoch 45/50\n",
      "54000/54000 [==============================] - 4s 82us/step - loss: 0.8457 - accuracy: 0.7209 - val_loss: 0.3036 - val_accuracy: 0.9255\n",
      "Epoch 46/50\n",
      "54000/54000 [==============================] - 4s 82us/step - loss: 0.8347 - accuracy: 0.7261 - val_loss: 0.2983 - val_accuracy: 0.9235\n",
      "Epoch 47/50\n",
      "54000/54000 [==============================] - 5s 87us/step - loss: 0.8483 - accuracy: 0.7214 - val_loss: 0.3175 - val_accuracy: 0.9160\n",
      "Epoch 48/50\n",
      "54000/54000 [==============================] - 4s 82us/step - loss: 0.8561 - accuracy: 0.7204 - val_loss: 0.3185 - val_accuracy: 0.9168\n",
      "Epoch 49/50\n",
      "54000/54000 [==============================] - 4s 79us/step - loss: 0.8395 - accuracy: 0.7264 - val_loss: 0.3129 - val_accuracy: 0.9175\n",
      "Epoch 50/50\n",
      "54000/54000 [==============================] - 5s 91us/step - loss: 0.8330 - accuracy: 0.7312 - val_loss: 0.3146 - val_accuracy: 0.9147\n",
      "10000/10000 [==============================] - 1s 64us/step\n"
     ]
    }
   ],
   "source": [
    "#Training\n",
    "model.compile(optimizer='adam',loss='categorical_crossentropy',metrics=['accuracy'])\n",
    "history=model.fit(x_train,y_train,batch_size=128,epochs=50, validation_split=.1)\n",
    "loss,accuracy=model.evaluate(x_test,y_test)"
   ]
  },
  {
   "cell_type": "code",
   "execution_count": 32,
   "metadata": {},
   "outputs": [
    {
     "data": {
      "image/png": "[encoded data removed]",
      "text/plain": [
       "<Figure size 432x288 with 1 Axes>"
      ]
     },
     "metadata": {
      "needs_background": "light"
     },
     "output_type": "display_data"
    }
   ],
   "source": [
    "#Plotting\n",
    "plt.plot(history.history['accuracy'])\n",
    "plt.plot(history.history['val_accuracy'])\n",
    "plt.title('model accuracy')\n",
    "plt.ylabel('Accuracy')\n",
    "plt.xlabel('Epoch')\n",
    "plt.legend(['Training', 'Validation'], loc='best')\n",
    "plt.show()"
   ]
  },
  {
   "cell_type": "code",
   "execution_count": 33,
   "metadata": {},
   "outputs": [],
   "source": [
    "# print(history.history.keys())"
   ]
  },
  {
   "cell_type": "code",
   "execution_count": 34,
   "metadata": {},
   "outputs": [
    {
     "data": {
      "image/png": "[encoded data removed]",
      "text/plain": [
       "<Figure size 432x288 with 1 Axes>"
      ]
     },
     "metadata": {
      "needs_background": "light"
     },
     "output_type": "display_data"
    }
   ],
   "source": [
    "plt.plot(history.history['loss'])\n",
    "plt.plot(history.history['val_loss'])\n",
    "plt.title('model loss')\n",
    "plt.ylabel('Loss')\n",
    "plt.xlabel('Epoch')\n",
    "plt.legend(['Training', 'Validation'], loc='best')\n",
    "plt.show()"
   ]
  },
  {
   "cell_type": "code",
   "execution_count": 35,
   "metadata": {},
   "outputs": [
    {
     "name": "stdout",
     "output_type": "stream",
     "text": [
      "Test loss: 0.37\n",
      "Test accuracy: 0.9\n"
     ]
    }
   ],
   "source": [
    "print(f'Test loss: {loss:.3}')\n",
    "print(f'Test accuracy: {accuracy:.3}')"
   ]
  },
  {
   "cell_type": "code",
   "execution_count": 39,
   "metadata": {
    "scrolled": true
   },
   "outputs": [
    {
     "name": "stdout",
     "output_type": "stream",
     "text": [
      "0.png\n",
      "1.png\n",
      "2.png\n",
      "3.png\n",
      "4.png\n",
      "5.png\n",
      "6.png\n",
      "7.png\n",
      "8.png\n",
      "9.png\n"
     ]
    }
   ],
   "source": [
    "#Prepare custom dataset\n",
    "import cv2\n",
    "x_test_new=[]\n",
    "n_data=10\n",
    "\n",
    "for i in range(n_data):\n",
    "    path=(str)(i)+\".png\"\n",
    "    print(path)\n",
    "    x=cv2.imread(path,0)\n",
    "    x=~x\n",
    "    x_test_new.append(x)"
   ]
  },
  {
   "cell_type": "code",
   "execution_count": 40,
   "metadata": {},
   "outputs": [],
   "source": [
    "x_test_new=np.array(x_test_new)\n",
    "x_test_new = x_test_new.reshape(x_test_new.shape[0], x_test_new.shape[1] * x_test_new.shape[2])\n",
    "\n",
    "y_test_new=[]\n",
    "for i in range(n_data):\n",
    "    y_test_new.append(i)\n",
    "    \n",
    "y_test_new=np.array(y_test_new)\n",
    "y_test_new=y_test_new.astype('uint8')\n",
    "\n",
    "y_test_new = keras.utils.to_categorical(y_test_new, 10)"
   ]
  },
  {
   "cell_type": "code",
   "execution_count": 41,
   "metadata": {},
   "outputs": [
    {
     "name": "stdout",
     "output_type": "stream",
     "text": [
      "10/10 [==============================] - 0s 251us/step\n",
      "0.5\n"
     ]
    }
   ],
   "source": [
    "#Test on the new test set\n",
    "loss2,accuracy2=model.evaluate(x_test_new,y_test_new)\n",
    "print(accuracy2)"
   ]
  },
  {
   "cell_type": "code",
   "execution_count": null,
   "metadata": {},
   "outputs": [],
   "source": []
  }
 ],
 "metadata": {
  "kernelspec": {
   "display_name": "Python 3",
   "language": "python",
   "name": "python3"
  },
  "language_info": {
   "codemirror_mode": {
    "name": "ipython",
    "version": 3
   },
   "file_extension": ".py",
   "mimetype": "text/x-python",
   "name": "python",
   "nbconvert_exporter": "python",
   "pygments_lexer": "ipython3",
   "version": "3.7.3"
  }
 },
 "nbformat": 4,
 "nbformat_minor": 2
}
